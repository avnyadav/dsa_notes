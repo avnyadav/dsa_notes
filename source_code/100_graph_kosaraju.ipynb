{
 "cells": [
  {
   "cell_type": "code",
   "execution_count": 1,
   "metadata": {},
   "outputs": [],
   "source": [
    "a=[1,2]"
   ]
  },
  {
   "cell_type": "code",
   "execution_count": 2,
   "metadata": {},
   "outputs": [
    {
     "data": {
      "text/plain": [
       "2"
      ]
     },
     "execution_count": 2,
     "metadata": {},
     "output_type": "execute_result"
    }
   ],
   "source": [
    "a.pop()"
   ]
  },
  {
   "cell_type": "code",
   "execution_count": 1,
   "metadata": {},
   "outputs": [],
   "source": [
    "from typing import List,Dict\n",
    "\n",
    "\n",
    "def dfs(node:int,visited:Dict[int,bool],stack:List[int],adj:Dict[int,List[int]])->None:\n",
    "    visited[node]=True\n",
    "    for nbr in adj[node]:\n",
    "        if not visited[node]:\n",
    "            dfs(nbr,visited,stack,adj)\n",
    "    \n",
    "    stack.append(node)\n",
    "\n",
    "\n",
    "def revDfs(node,visited,transpose):\n",
    "    visited[node]=True\n",
    "    for nbr in transpose[node]:\n",
    "        if not visited[nbr]:\n",
    "            revDfs(nbr,visited,transpose)\n",
    "\n",
    "def stronglyConnectedComponents(v, edges):\n",
    "    # Write your code here\n",
    "    adj:Dict[int,List[int]]=dict()\n",
    "    visited:Dict[int,bool]=dict()\n",
    "    for i in range(v):\n",
    "        adj[i]=list()\n",
    "        visited[i]=False\n",
    "\n",
    "\n",
    "\n",
    "    #prepare adj List\n",
    "    for edge in edges:\n",
    "        startNode,stopNode = edge[0],edge[1]\n",
    "        #print(startNode)\n",
    "        adj[startNode].append(stopNode)\n",
    "\n",
    "\n",
    "    #1. topological sort\n",
    "    stack:List[int]=list()\n",
    "\n",
    "    for i in range(v):\n",
    "        if not visited[i]:\n",
    "            dfs(i,visited,stack,adj)\n",
    "\n",
    "    \n",
    "    #create a transpose graph\n",
    "\n",
    "    transpose:Dict[int,List[int]]={i:list() for i in range(v)}\n",
    "\n",
    "    for edge in edges:\n",
    "        startNode,stopNode = edge[0],edge[1]\n",
    "        #print(startNode)\n",
    "        transpose[stopNode].append(startNode)\n",
    "\n",
    "\n",
    "    visited={i:False for i in range(v)}\n",
    "\n",
    "    count=0\n",
    "    while len(stack)!=0:\n",
    "        top = stack.pop()\n",
    "        if not visited[top]:\n",
    "            count+=1\n",
    "            revDfs(top,visited,transpose)\n",
    "\n",
    "    return count"
   ]
  },
  {
   "cell_type": "code",
   "execution_count": null,
   "metadata": {},
   "outputs": [],
   "source": []
  }
 ],
 "metadata": {
  "kernelspec": {
   "display_name": "base",
   "language": "python",
   "name": "python3"
  },
  "language_info": {
   "codemirror_mode": {
    "name": "ipython",
    "version": 3
   },
   "file_extension": ".py",
   "mimetype": "text/x-python",
   "name": "python",
   "nbconvert_exporter": "python",
   "pygments_lexer": "ipython3",
   "version": "3.11.5"
  }
 },
 "nbformat": 4,
 "nbformat_minor": 2
}
