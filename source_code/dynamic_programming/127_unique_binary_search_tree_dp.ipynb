{
 "cells": [
  {
   "cell_type": "code",
   "execution_count": null,
   "metadata": {},
   "outputs": [],
   "source": [
    "\n",
    "def func(n,dp):\n",
    "    if n<=1:\n",
    "        return 1\n",
    "    if dp[n]!=-1:\n",
    "        return dp[n]\n",
    "    ans = 0\n",
    "    for i in range(1,n+1):\n",
    "        ans = ans + func(i-1,dp)*func(n-i,dp)\n",
    "    dp[n]=ans\n",
    "    return ans\n",
    "\n",
    "\n",
    "def funT(n):\n",
    "    dp=[0]*(n+1)\n",
    "    dp[0]=1\n",
    "    dp[1]=1\n",
    "\n",
    "    ans = 1\n",
    "    for i in range(2,n+1):\n",
    "        for j in range(1,i+1):\n",
    "            dp[i] += dp[j-1]*dp[i-j]\n",
    "\n",
    "    return dp[n]\n",
    "\n",
    "class Solution:\n",
    "\n",
    "    \n",
    "    def numTrees(self, n: int) -> int:\n",
    "        # dp = [-1]*(n+1)\n",
    "        # return func(n,dp)\n",
    "        return funT(n)\n",
    "       "
   ]
  },
  {
   "cell_type": "code",
   "execution_count": null,
   "metadata": {},
   "outputs": [],
   "source": []
  }
 ],
 "metadata": {
  "language_info": {
   "name": "python"
  }
 },
 "nbformat": 4,
 "nbformat_minor": 2
}
