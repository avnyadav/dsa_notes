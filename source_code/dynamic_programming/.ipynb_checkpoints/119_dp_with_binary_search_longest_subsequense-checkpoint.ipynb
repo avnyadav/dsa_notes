{
 "cells": [
  {
   "cell_type": "code",
   "execution_count": 10,
   "metadata": {},
   "outputs": [],
   "source": [
    "from bisect import bisect_left"
   ]
  },
  {
   "cell_type": "code",
   "execution_count": 9,
   "metadata": {},
   "outputs": [
    {
     "data": {
      "text/plain": [
       "3"
      ]
     },
     "execution_count": 9,
     "metadata": {},
     "output_type": "execute_result"
    }
   ],
   "source": [
    "bisect_left([1,8,9,15], 11)"
   ]
  },
  {
   "cell_type": "code",
   "execution_count": null,
   "metadata": {},
   "outputs": [],
   "source": [
    "#User function Template for python3\n",
    "from bisect import bisect_left\n",
    "\n",
    "\n",
    "#Dp with binary search\n",
    "def solve(n,a):\n",
    "    if n==0:\n",
    "        return 0\n",
    "    \n",
    "    ans = [a[0]]\n",
    "    \n",
    "    for i in range(1,n):\n",
    "        if a[i]>ans[-1]:\n",
    "            ans.append(a[i])\n",
    "        else:\n",
    "            #finding index of just smallest value\n",
    "            replace_idx = bisect_left(ans,a[i])\n",
    "            ans[replace_idx]=a[i]\n",
    "            \n",
    "    return len(ans)\n",
    "    \n",
    "    \n",
    "class Solution:\n",
    "    \n",
    "    def solve(self, n, a, curr, prev):\n",
    "        if curr==n:\n",
    "            return 0\n",
    "            \n",
    "        inc  = 0\n",
    "        if prev==-1 or ( a[curr]>a[prev]):\n",
    "            inc = 1 + self.solve(n,a,curr+1,curr)\n",
    "        \n",
    "        exc = self.solve(n,a,curr+1,prev)\n",
    "\n",
    "        return max(inc,exc)    \n",
    "    #Function to find length of longest increasing subsequence.\n",
    "    def longestSubsequence(self, n, a):\n",
    "        return solve(n,a)\n",
    "        # code here\n",
    "       \n",
    "\n",
    "\n",
    "\n",
    "#{ \n",
    " # Driver Code Starts\n",
    "#Initial Template for Python 3\n",
    "\n",
    "if __name__ == '__main__':\n",
    "    for _ in range(int(input())):\n",
    "        n = int(input())\n",
    "        a = [int(x) for x in input().split()]\n",
    "        ob = Solution()\n",
    "        print(ob.longestSubsequence(n, a))\n",
    "\n",
    "# } Driver Code Ends"
   ]
  },
  {
   "cell_type": "code",
   "execution_count": 63,
   "metadata": {},
   "outputs": [],
   "source": [
    "arr= [[1,1],[1,2]]"
   ]
  },
  {
   "cell_type": "code",
   "execution_count": null,
   "metadata": {},
   "outputs": [],
   "source": []
  },
  {
   "cell_type": "code",
   "execution_count": 64,
   "metadata": {},
   "outputs": [],
   "source": [
    "from functools import cmp_to_key"
   ]
  },
  {
   "cell_type": "code",
   "execution_count": 67,
   "metadata": {},
   "outputs": [],
   "source": [
    "def sorting(next_,curr):\n",
    "    print(curr,next_)\n",
    "    if curr[0]==next_[0]:\n",
    "        return curr[1]>next_[1]\n",
    "    return curr[0]<next_[0]\n",
    "\n",
    "\n",
    "\n",
    "    "
   ]
  },
  {
   "cell_type": "code",
   "execution_count": 68,
   "metadata": {},
   "outputs": [
    {
     "name": "stdout",
     "output_type": "stream",
     "text": [
      "[1, 1] [1, 2]\n"
     ]
    },
    {
     "data": {
      "text/plain": [
       "[[1, 1], [1, 2]]"
      ]
     },
     "execution_count": 68,
     "metadata": {},
     "output_type": "execute_result"
    }
   ],
   "source": [
    "sorted(arr,key=cmp_to_key(sorting))"
   ]
  },
  {
   "cell_type": "code",
   "execution_count": 69,
   "metadata": {},
   "outputs": [
    {
     "data": {
      "text/plain": [
       "[[1, 1], [1, 2]]"
      ]
     },
     "execution_count": 69,
     "metadata": {},
     "output_type": "execute_result"
    }
   ],
   "source": [
    "arr"
   ]
  },
  {
   "cell_type": "code",
   "execution_count": 71,
   "metadata": {},
   "outputs": [
    {
     "name": "stdout",
     "output_type": "stream",
     "text": [
      "[(1, 2), (1, 1)]\n"
     ]
    },
    {
     "ename": "",
     "evalue": "",
     "output_type": "error",
     "traceback": [
      "\u001b[1;31mThe Kernel crashed while executing code in the current cell or a previous cell. \n",
      "\u001b[1;31mPlease review the code in the cell(s) to identify a possible cause of the failure. \n",
      "\u001b[1;31mClick <a href='https://aka.ms/vscodeJupyterKernelCrash'>here</a> for more info. \n",
      "\u001b[1;31mView Jupyter <a href='command:jupyter.viewOutput'>log</a> for further details."
     ]
    }
   ],
   "source": [
    "# Sample tuple\n",
    "my_tuple = [(1,1),(1,2)]\n",
    "\n",
    "# Sort based on the first item in ascending order and the second item in descending order\n",
    "sorted_tuple = sorted(my_tuple, key=lambda x: (x[0], -x[1]))\n",
    "\n",
    "print(sorted_tuple)"
   ]
  },
  {
   "cell_type": "code",
   "execution_count": null,
   "metadata": {},
   "outputs": [],
   "source": []
  }
 ],
 "metadata": {
  "kernelspec": {
   "display_name": "base",
   "language": "python",
   "name": "python3"
  },
  "language_info": {
   "codemirror_mode": {
    "name": "ipython",
    "version": 3
   },
   "file_extension": ".py",
   "mimetype": "text/x-python",
   "name": "python",
   "nbconvert_exporter": "python",
   "pygments_lexer": "ipython3",
   "version": "3.11.5"
  }
 },
 "nbformat": 4,
 "nbformat_minor": 2
}
