{
 "cells": [
  {
   "cell_type": "code",
   "execution_count": null,
   "metadata": {},
   "outputs": [],
   "source": [
    "from os import *\n",
    "from sys import *\n",
    "from collections import *\n",
    "from math import *\n",
    "\n",
    "# def updateMap(dictionary,k,v):\n",
    "#     if not dictionary.get(k,None):\n",
    "#         dictionary[k]=[v]\n",
    "#         return\n",
    "#     dictionary[k].append(v)\n",
    "\n",
    "def prepareAdjList(adjList,edges,e):\n",
    "\n",
    "    for edge in edges[:e]:\n",
    "        u,v=edge[0],edge[1]\n",
    "        if u is not None:\n",
    "            adjList[u].append(v)\n",
    "\n",
    "def traverse(result,node,visited,adjList):\n",
    "    visited[node]=True\n",
    "    for neighbour in adjList[node]:\n",
    "        if not visited.get(neighbour,False):\n",
    "            traverse(result,neighbour,visited,adjList)\n",
    "    result.append(node)\n",
    "\n",
    "\n",
    "def topologicalSort(adj, v, e):\n",
    "    # Write your code here\n",
    "\n",
    "    adjList=dict(zip([i for i in range(v)],[list() for _ in range(v)]))\n",
    "\n",
    "\n",
    "    prepareAdjList(adjList,adj,e)\n",
    "    #print(adjList)\n",
    "    visited=dict()\n",
    "    result=[]\n",
    "    for i in range(v):\n",
    "        if  not visited.get(i,False):\n",
    "            traverse(result,i,visited,adjList)\n",
    "\n",
    "    #print(result)\n",
    "    return result[::-1]\n",
    "\n",
    "    "
   ]
  }
 ],
 "metadata": {
  "language_info": {
   "name": "python"
  }
 },
 "nbformat": 4,
 "nbformat_minor": 2
}
