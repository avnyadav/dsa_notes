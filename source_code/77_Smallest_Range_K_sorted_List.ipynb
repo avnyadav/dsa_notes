{
 "cells": [
  {
   "cell_type": "code",
   "execution_count": 1,
   "metadata": {},
   "outputs": [],
   "source": [
    "import heapq\n",
    "\n",
    "class Node:\n",
    "    def __init__(self,data,idx,arrPos) -> None:\n",
    "        self.data=data\n",
    "        self.idx=idx\n",
    "        self.arrPos=arrPos\n",
    "        \n",
    "    def __lt__(self,obj):\n",
    "        return self.data<obj.data\n",
    "\n",
    "\n",
    "class Heap:\n",
    "\n",
    "\tdef __init__(self):\n",
    "\t\tself.arr=[]\n",
    "\t\n",
    "\tdef push(self,item):\n",
    "\t\theapq.heappush(self.arr,item)\n",
    "\t\n",
    "\tdef pop(self):\n",
    "\t\treturn heapq.heappop(self.arr)\n",
    "\t\n",
    "\t@property\n",
    "\tdef size(self):\n",
    "\t\treturn len(self.arr)\n",
    "\t\n",
    "\tdef top(self):\n",
    "\t\tif self.size>0:\n",
    "\t\t\treturn self.arr[0]\n",
    "\n",
    "\n",
    "def getRange(minVal,maxVal):\n",
    "    #print(minVal,maxVal)\n",
    "    return maxVal-minVal+1\n",
    "\n",
    "def kSorted(a, k, n):\n",
    "\n",
    "    heap = Heap()\n",
    "    kSize=[]\n",
    "    maxVal=None\n",
    "    for i in range(k):\n",
    "        kSize.append(len(a[i]))\n",
    "        val = a[i][0]\n",
    "        node = Node(data=val,idx=0,arrPos=i)\n",
    "        heap.push(node)\n",
    "        if maxVal is None:\n",
    "            maxVal=val\n",
    "        else:\n",
    "            maxVal = val if val>maxVal  else maxVal \n",
    "\n",
    "    node=heap.top()\n",
    "    ans = getRange(minVal=node.data,maxVal=maxVal)\n",
    "\n",
    "    while heap.size!=0:\n",
    "        minNode = heap.top() \n",
    "        heap.pop()\n",
    "\n",
    "        new_range = getRange(minVal=minNode.data,maxVal=maxVal)\n",
    "        if new_range<ans:\n",
    "            ans=new_range\n",
    "\n",
    "        nextIdx=minNode.idx+1\n",
    "        if nextIdx>=kSize[minNode.arrPos]:\n",
    "            break\n",
    "        newNode = Node(data=a[minNode.arrPos][nextIdx],idx=nextIdx,arrPos=minNode.arrPos)\n",
    "        heap.push(newNode)\n",
    "        if newNode.data>maxVal:\n",
    "            maxVal=newNode.data\n",
    "    return ans\n",
    "\n"
   ]
  },
  {
   "cell_type": "code",
   "execution_count": 1,
   "metadata": {},
   "outputs": [],
   "source": [
    "INT_MIN = float('inf')*-1"
   ]
  },
  {
   "cell_type": "code",
   "execution_count": 4,
   "metadata": {},
   "outputs": [
    {
     "data": {
      "text/plain": [
       "-inf"
      ]
     },
     "execution_count": 4,
     "metadata": {},
     "output_type": "execute_result"
    }
   ],
   "source": [
    "float('-inf')"
   ]
  },
  {
   "cell_type": "code",
   "execution_count": null,
   "metadata": {},
   "outputs": [],
   "source": []
  }
 ],
 "metadata": {
  "kernelspec": {
   "display_name": "base",
   "language": "python",
   "name": "python3"
  },
  "language_info": {
   "codemirror_mode": {
    "name": "ipython",
    "version": 3
   },
   "file_extension": ".py",
   "mimetype": "text/x-python",
   "name": "python",
   "nbconvert_exporter": "python",
   "pygments_lexer": "ipython3",
   "version": "3.11.5"
  }
 },
 "nbformat": 4,
 "nbformat_minor": 2
}
