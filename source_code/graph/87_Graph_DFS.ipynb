{
 "cells": [
  {
   "cell_type": "markdown",
   "metadata": {},
   "source": [
    "Input: V = 5 , adj = [[2,3,1] , [0], [0,4], [0], [2]]\n",
    "\n",
    "Output: 0 2 4 3 1\n",
    "\n",
    "Explanation: \n",
    "\n",
    "0 is connected to 2, 3, 1.\n",
    "1 is connected to 0.\n",
    "2 is connected to 0 and 4.\n",
    "3 is connected to 0.\n",
    "4 is connected to 2.\n",
    "so starting from 0, it will go to 2 then 4,\n",
    "and then 3 and 1.\n",
    "Thus dfs will be 0 2 4 3 1."
   ]
  },
  {
   "cell_type": "code",
   "execution_count": null,
   "metadata": {},
   "outputs": [],
   "source": [
    "def depthSearchAlgorithm(startNode,visited,adj,ans):\n",
    "    if not visited.get(startNode,False):\n",
    "        visited[startNode]=True\n",
    "        ans.append(startNode)\n",
    "    \n",
    "    for neighbour in adj[startNode]:\n",
    "        if not visited.get(neighbour,False):\n",
    "            depthSearchAlgorithm(neighbour,visited,adj,ans)\n",
    "    \n",
    "    \n",
    "\n",
    "\n",
    "class Solution:\n",
    "    \n",
    "    \n",
    "    \n",
    "    #Function to return a list containing the DFS traversal of the graph.\n",
    "    def dfsOfGraph(self, V, adj):\n",
    "        # code here\n",
    "        visited=dict()\n",
    "        ans=[]\n",
    "        depthSearchAlgorithm(startNode=0,\n",
    "        visited=visited,\n",
    "        adj=adj,\n",
    "        ans=ans\n",
    "        )\n",
    "        return ans\n",
    "    "
   ]
  }
 ],
 "metadata": {
  "language_info": {
   "name": "python"
  }
 },
 "nbformat": 4,
 "nbformat_minor": 2
}
