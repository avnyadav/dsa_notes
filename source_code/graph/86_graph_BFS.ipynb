{
 "cells": [
  {
   "cell_type": "code",
   "execution_count": 3,
   "metadata": {},
   "outputs": [
    {
     "name": "stdout",
     "output_type": "stream",
     "text": [
      "[0, 1, 2, 3, 4, 5, 6, 7]\n"
     ]
    }
   ],
   "source": [
    "from typing import List,Dict\n",
    "from collections import deque\n",
    "\n",
    "\n",
    "def updateDict(dic,k,v):\n",
    "    if dic.get(k,None) is None:\n",
    "        dic[k]=[v]\n",
    "        return dic\n",
    "    dic[k].append(v)\n",
    "    return dic\n",
    "\n",
    "\n",
    "def prepareAdjcencyList(adj:List[List[int]],adjList:Dict[int,List[int]]):\n",
    "\n",
    "    for v in range(len(adj)):\n",
    "        for u in adj[v]:\n",
    "            updateDict(adjList,u,v)\n",
    "            updateDict(adjList,v,u)\n",
    " \n",
    "def bfs(ans,adjList,visited,node):\n",
    "    q=deque()\n",
    "    visited[node]=True\n",
    "    q.append(node)\n",
    "    while len(q)!=0:\n",
    "        firstNode = q.popleft()\n",
    "        ans.append(firstNode)\n",
    "        for neighbourNode in adjList[firstNode]:\n",
    "            if not visited.get(neighbourNode,False):\n",
    "                visited[neighbourNode]=True\n",
    "                q.append(neighbourNode)\n",
    "\n",
    "\n",
    "\n",
    "\n",
    "def bfsTraversal(n: int, adj: List[List[int]]) -> List[int]:\n",
    "    ans=[]\n",
    "    #prepapre adjcency List\n",
    "    adjList:Dict[int,List[int]]=dict()\n",
    "    prepareAdjcencyList(adj,adjList)\n",
    "    #print(adjList)\n",
    "    \n",
    "    visited:Dict[int:bool]=dict()\n",
    "    #traversing for each component\n",
    "    for i in range(n):\n",
    "        if not visited.get(i,False):\n",
    "            bfs(ans,adjList,visited,i)\n",
    "    print(ans)\n",
    "    return ans\n",
    "if __name__==\"__main__\":\n",
    "    data=\"\"\"8 7\n",
    "0 1\n",
    "0 2\n",
    "0 3\n",
    "1 4\n",
    "1 7\n",
    "2 5\n",
    "3 6\"\"\"\n",
    "    data = [ list(map(int,edge.split(\" \"))) for edge in data.split(\"\\n\")]\n",
    "    _,edge=data[0],data[1:]\n",
    "    bfsTraversal(8,edge)\n",
    "    a=[]\n"
   ]
  },
  {
   "cell_type": "code",
   "execution_count": 1,
   "metadata": {},
   "outputs": [
    {
     "ename": "NameError",
     "evalue": "name 'ans' is not defined",
     "output_type": "error",
     "traceback": [
      "\u001b[1;31m---------------------------------------------------------------------------\u001b[0m",
      "\u001b[1;31mNameError\u001b[0m                                 Traceback (most recent call last)",
      "Cell \u001b[1;32mIn[1], line 1\u001b[0m\n\u001b[1;32m----> 1\u001b[0m \u001b[43mans\u001b[49m\n",
      "\u001b[1;31mNameError\u001b[0m: name 'ans' is not defined"
     ]
    }
   ],
   "source": []
  },
  {
   "cell_type": "code",
   "execution_count": null,
   "metadata": {},
   "outputs": [],
   "source": []
  }
 ],
 "metadata": {
  "kernelspec": {
   "display_name": "base",
   "language": "python",
   "name": "python3"
  },
  "language_info": {
   "codemirror_mode": {
    "name": "ipython",
    "version": 3
   },
   "file_extension": ".py",
   "mimetype": "text/x-python",
   "name": "python",
   "nbconvert_exporter": "python",
   "pygments_lexer": "ipython3",
   "version": "3.11.5"
  }
 },
 "nbformat": 4,
 "nbformat_minor": 2
}
