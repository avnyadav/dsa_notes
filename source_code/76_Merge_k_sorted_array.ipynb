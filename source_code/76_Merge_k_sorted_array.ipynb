{
 "cells": [
  {
   "cell_type": "code",
   "execution_count": 44,
   "metadata": {},
   "outputs": [],
   "source": [
    "import heapq\n",
    "\n",
    "class Node:\n",
    "    def __init__(self,data,idx,arrPos) -> None:\n",
    "        self.data=data\n",
    "        self.idx=idx\n",
    "        self.arrPos=arrPos\n",
    "        \n",
    "    def __lt__(self,obj):\n",
    "        return self.data<obj.data\n",
    "\t\n",
    "\t\n",
    "class Heap:\n",
    "\n",
    "\tdef __init__(self):\n",
    "\t\tself.arr=[]\n",
    "\t\n",
    "\tdef push(self,item):\n",
    "\t\theapq.heappush(self.arr,item)\n",
    "\t\n",
    "\tdef pop(self):\n",
    "\t\treturn heapq.heappop(self.arr)\n",
    "\t\n",
    "\t@property\n",
    "\tdef size(self):\n",
    "\t\treturn len(self.arr)\n",
    "\t\n",
    "\tdef top(self):\n",
    "\t\tif self.size>0:\n",
    "\t\t\treturn self.arr[0]\n",
    "\n"
   ]
  },
  {
   "cell_type": "code",
   "execution_count": 25,
   "metadata": {},
   "outputs": [],
   "source": []
  },
  {
   "cell_type": "code",
   "execution_count": 18,
   "metadata": {},
   "outputs": [],
   "source": [
    "node=Node(12,0,0)"
   ]
  },
  {
   "cell_type": "code",
   "execution_count": 20,
   "metadata": {},
   "outputs": [],
   "source": [
    "heap=Heap()"
   ]
  },
  {
   "cell_type": "code",
   "execution_count": 21,
   "metadata": {},
   "outputs": [],
   "source": [
    "heap.push(node)"
   ]
  },
  {
   "cell_type": "code",
   "execution_count": 22,
   "metadata": {},
   "outputs": [],
   "source": [
    "import random"
   ]
  },
  {
   "cell_type": "code",
   "execution_count": 23,
   "metadata": {},
   "outputs": [
    {
     "data": {
      "text/plain": [
       "78"
      ]
     },
     "execution_count": 23,
     "metadata": {},
     "output_type": "execute_result"
    }
   ],
   "source": [
    "random.randint(1,100)"
   ]
  },
  {
   "cell_type": "code",
   "execution_count": 32,
   "metadata": {},
   "outputs": [],
   "source": [
    "heap=Heap()\n",
    "for i in range(10):\n",
    "    arr_idx=random.randint(0,5),\n",
    "    node=Node(random.randint(1,100),arr_idx,arr_idx)\n",
    "    heap.push(node)\n"
   ]
  },
  {
   "cell_type": "code",
   "execution_count": 35,
   "metadata": {},
   "outputs": [
    {
     "name": "stdout",
     "output_type": "stream",
     "text": [
      "8\n",
      "10\n",
      "12\n",
      "42\n",
      "39\n",
      "23\n",
      "84\n",
      "70\n",
      "45\n",
      "66\n"
     ]
    }
   ],
   "source": [
    "for i in range(10):\n",
    "    print(heap.arr[i].data)"
   ]
  },
  {
   "cell_type": "code",
   "execution_count": 42,
   "metadata": {},
   "outputs": [
    {
     "data": {
      "text/plain": [
       "23"
      ]
     },
     "execution_count": 42,
     "metadata": {},
     "output_type": "execute_result"
    }
   ],
   "source": [
    "heap.top().data"
   ]
  },
  {
   "cell_type": "code",
   "execution_count": 43,
   "metadata": {},
   "outputs": [
    {
     "data": {
      "text/plain": [
       "23"
      ]
     },
     "execution_count": 43,
     "metadata": {},
     "output_type": "execute_result"
    }
   ],
   "source": [
    "heap.pop().data"
   ]
  },
  {
   "cell_type": "code",
   "execution_count": 45,
   "metadata": {},
   "outputs": [],
   "source": [
    "from sys import *\n",
    "from collections import *\n",
    "from math import *\n",
    "\n",
    "\n",
    "import heapq\n",
    "\n",
    "class Node:\n",
    "    def __init__(self,data,idx,arrPos) -> None:\n",
    "        self.data=data\n",
    "        self.idx=idx\n",
    "        self.arrPos=arrPos\n",
    "        \n",
    "    def __lt__(self,obj):\n",
    "        return self.data<obj.data\n",
    "\t\n",
    "\t\n",
    "class Heap:\n",
    "\n",
    "\tdef __init__(self):\n",
    "\t\tself.arr=[]\n",
    "\t\n",
    "\tdef push(self,item):\n",
    "\t\theapq.heappush(self.arr,item)\n",
    "\t\n",
    "\tdef pop(self):\n",
    "\t\treturn heapq.heappop(self.arr)\n",
    "\t\n",
    "\t@property\n",
    "\tdef size(self):\n",
    "\t\treturn len(self.arr)\n",
    "\t\n",
    "\tdef top(self):\n",
    "\t\tif self.size>0:\n",
    "\t\t\treturn self.arr[0]\n",
    "\n",
    "\n",
    "\n",
    "\n",
    "def mergeKSortedArrays(kArrays, k:int):\n",
    "\t# Write your code here.\n",
    "\t# kArrays is a list of 'k' lists.\n",
    "\t# Return a list.\n",
    "\theap = Heap()\n",
    "\tkSize =[]\n",
    "\tfor i in range(k):\n",
    "\t\tnode = Node(data=kArrays[i][0],idx=0,arrPos=i)\n",
    "\t\theap.push(node)\n",
    "\t\tkSize.append(len(kArrays[i]))\n",
    "\n",
    "\tans = []\n",
    "\twhile heap.size!=0:\n",
    "\t\tminNode = heap.pop() \n",
    "\t\tans.append(minNode.data)\n",
    "\t\tidx=minNode.idx \n",
    "\t\tarrPos=minNode.arrPos\n",
    "\n",
    "\t\tnextIdx=idx+1\n",
    "\t\tif nextIdx<kSize[arrPos]:\n",
    "\t\t\tnode = Node(data=kArrays[arrPos][nextIdx],idx=nextIdx,arrPos=arrPos)\n",
    "\t\t\theap.push(node)\n",
    "\t\n",
    "\treturn ans\n",
    "\n",
    "\n",
    "\n"
   ]
  },
  {
   "cell_type": "code",
   "execution_count": null,
   "metadata": {},
   "outputs": [],
   "source": []
  }
 ],
 "metadata": {
  "kernelspec": {
   "display_name": "base",
   "language": "python",
   "name": "python3"
  },
  "language_info": {
   "codemirror_mode": {
    "name": "ipython",
    "version": 3
   },
   "file_extension": ".py",
   "mimetype": "text/x-python",
   "name": "python",
   "nbconvert_exporter": "python",
   "pygments_lexer": "ipython3",
   "version": "3.11.5"
  }
 },
 "nbformat": 4,
 "nbformat_minor": 2
}
