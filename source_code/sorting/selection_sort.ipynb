{
 "cells": [
  {
   "cell_type": "code",
   "execution_count": 1,
   "metadata": {},
   "outputs": [],
   "source": [
    "A = [64, 25, 12, 22, 11]"
   ]
  },
  {
   "cell_type": "code",
   "execution_count": 11,
   "metadata": {},
   "outputs": [],
   "source": [
    "def selection_sort(arr):\n",
    "    \n",
    "    \n",
    "    for i in range(len(arr)-1):\n",
    "        print(i,len(arr))\n",
    "        smallest_number_idx=i\n",
    "        for j in range(i,len(arr)):\n",
    "            if arr[j]<arr[smallest_number_idx]:\n",
    "                smallest_number_idx=j\n",
    "        \n",
    "        arr[smallest_number_idx],arr[i]=arr[i],arr[smallest_number_idx]\n",
    "    return arr\n",
    "        \n",
    "\n"
   ]
  },
  {
   "cell_type": "code",
   "execution_count": 12,
   "metadata": {},
   "outputs": [
    {
     "name": "stdout",
     "output_type": "stream",
     "text": [
      "0 5\n",
      "1 5\n",
      "2 5\n",
      "3 5\n"
     ]
    },
    {
     "data": {
      "text/plain": [
       "[11, 12, 22, 25, 64]"
      ]
     },
     "execution_count": 12,
     "metadata": {},
     "output_type": "execute_result"
    }
   ],
   "source": [
    "selection_sort(A)"
   ]
  },
  {
   "cell_type": "code",
   "execution_count": 22,
   "metadata": {},
   "outputs": [],
   "source": [
    "def bubble_sor(A):\n",
    "    \n",
    "    for i in range(len(A)-1):\n",
    "        is_swapped=False\n",
    "        for j in range(len(A)-i-1):\n",
    "            if A[j]>A[j+1]:\n",
    "                A[j],A[j+1]=A[j+1],A[j]\n",
    "                is_swapped=True\n",
    "        print(A)\n",
    "        if not is_swapped:\n",
    "            break\n",
    "\n",
    "    return A"
   ]
  },
  {
   "cell_type": "code",
   "execution_count": 29,
   "metadata": {},
   "outputs": [
    {
     "name": "stdout",
     "output_type": "stream",
     "text": [
      "[1, 4, 4, 1, 1, 9]\n",
      "[1, 4, 1, 1, 4, 9]\n",
      "[1, 1, 1, 4, 4, 9]\n",
      "[1, 1, 1, 4, 4, 9]\n"
     ]
    },
    {
     "data": {
      "text/plain": [
       "[1, 1, 1, 4, 4, 9]"
      ]
     },
     "execution_count": 29,
     "metadata": {},
     "output_type": "execute_result"
    }
   ],
   "source": [
    "A = [1,9,4,4,1,1]\n",
    "bubble_sor(A)"
   ]
  },
  {
   "cell_type": "code",
   "execution_count": null,
   "metadata": {},
   "outputs": [],
   "source": []
  }
 ],
 "metadata": {
  "kernelspec": {
   "display_name": "base",
   "language": "python",
   "name": "python3"
  },
  "language_info": {
   "codemirror_mode": {
    "name": "ipython",
    "version": 3
   },
   "file_extension": ".py",
   "mimetype": "text/x-python",
   "name": "python",
   "nbconvert_exporter": "python",
   "pygments_lexer": "ipython3",
   "version": "3.11.5"
  }
 },
 "nbformat": 4,
 "nbformat_minor": 2
}
