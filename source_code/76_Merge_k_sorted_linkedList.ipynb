{
 "cells": [
  {
   "cell_type": "code",
   "execution_count": 2,
   "metadata": {},
   "outputs": [],
   "source": [
    "\n",
    "import heapq\n",
    "\n",
    "class LinkedList:\n",
    "\n",
    "    def __init__(self,data,next):\n",
    "        self.data=data\n",
    "        self.next=next\n",
    "\n",
    "class Node:\n",
    "    def __init__(self,linkedListNode) -> None:\n",
    "        self.linkedListNode=linkedListNode\n",
    "\n",
    "    def __lt__(self,obj):\n",
    "        return self.linkedListNode.data<obj.linkedListNode.data\n",
    "\t\n",
    "\t\n",
    "class Heap:\n",
    "\n",
    "\tdef __init__(self):\n",
    "\t\tself.arr=[]\n",
    "\t\n",
    "\tdef push(self,item):\n",
    "\t\theapq.heappush(self.arr,item)\n",
    "\t\n",
    "\tdef pop(self):\n",
    "\t\treturn heapq.heappop(self.arr)\n",
    "\t\n",
    "\t@property\n",
    "\tdef size(self):\n",
    "\t\treturn len(self.arr)\n",
    "\t\n",
    "\tdef top(self):\n",
    "\t\tif self.size>0:\n",
    "\t\t\treturn self.arr[0]\n",
    "\n",
    "\n",
    "def mergeKLists(listArray):\n",
    "\tnLinkedList = len(listArray)\n",
    "\tminHeap=Heap()\n",
    "\tfor i in range(nLinkedList):\n",
    "\t\tnode = Node(linkedListNode=listArray[i])\n",
    "\t\tminHeap.push(node)\n",
    "\thead,tail=None,None\n",
    "\t\n",
    "\twhile minHeap.size!=0:\n",
    "\t\tif head is None:\n",
    "\t\t\tnode = minHeap.top()\n",
    "\t\t\thead,tail=node.linkedListNode,node.linkedListNode\n",
    "\t\t\tminHeap.pop() \n",
    "\t\t\tif tail.next is not None:\n",
    "\t\t\t\tnode=Node(linkedListNode=tail.next)\n",
    "\t\t\t\tminHeap.push(node)\n",
    "\t\telse:\n",
    "\t\t\tnode = minHeap.top()\n",
    "\t\t\ttail.next=node.linkedListNode\n",
    "\t\t\ttail=tail.next\n",
    "\t\t\tminHeap.pop()\n",
    "\t\t\tif tail.next is not None:\n",
    "\t\t\t\tnode = Node(linkedListNode=tail.next)\n",
    "\t\t\t\tminHeap.push(node)\n",
    "\n",
    "\treturn head\n",
    "\n"
   ]
  },
  {
   "cell_type": "code",
   "execution_count": 7,
   "metadata": {},
   "outputs": [],
   "source": [
    "def get_linked_list(listData):\n",
    "    head=None\n",
    "    tail=None\n",
    "    for data in listData:\n",
    "        if head is None:\n",
    "            node = LinkedList(data=data,next=None)\n",
    "            head=node \n",
    "            tail=node \n",
    "        else:\n",
    "            node = LinkedList(data=data,next=None)\n",
    "            tail.next=node\n",
    "            tail = tail.next\n",
    "    return head \n",
    "            "
   ]
  },
  {
   "cell_type": "code",
   "execution_count": 15,
   "metadata": {},
   "outputs": [],
   "source": [
    "def print_linked_list(linkedList):\n",
    "    while linkedList is not None:\n",
    "        print(linkedList.data,end=\" \")\n",
    "        linkedList=linkedList.next\n",
    "\n"
   ]
  },
  {
   "cell_type": "code",
   "execution_count": null,
   "metadata": {},
   "outputs": [],
   "source": []
  }
 ],
 "metadata": {
  "kernelspec": {
   "display_name": "base",
   "language": "python",
   "name": "python3"
  },
  "language_info": {
   "codemirror_mode": {
    "name": "ipython",
    "version": 3
   },
   "file_extension": ".py",
   "mimetype": "text/x-python",
   "name": "python",
   "nbconvert_exporter": "python",
   "pygments_lexer": "ipython3",
   "version": "3.11.5"
  }
 },
 "nbformat": 4,
 "nbformat_minor": 2
}
