{
 "cells": [
  {
   "cell_type": "code",
   "execution_count": null,
   "metadata": {},
   "outputs": [],
   "source": [
    "\n",
    "def updateMap(dictionary,k,v):\n",
    "    if not dictionary.get(k,None):\n",
    "        dictionary[k]=[v]\n",
    "        return\n",
    "    dictionary[k].append(v)\n",
    "\n",
    "def prepareAdjList(adjList,edges):\n",
    "    \n",
    "    for edge in edges:\n",
    "        u,v=edge\n",
    "        updateMap(adjList,u,v)\n",
    "\n",
    "def dfs(visited,dfsVisited,node,adjList):\n",
    "\n",
    "    dfsVisited[node]=True\n",
    "    visited[node]=True\n",
    "    \n",
    "    for neighbour in adjList.get(node,list()):\n",
    "        if not visited.get(neighbour,False):\n",
    "            status = dfs(visited,dfsVisited,neighbour,adjList)\n",
    "            if status:\n",
    "                return True\n",
    "        elif dfsVisited.get(neighbour,False):\n",
    "            return True\n",
    "    \n",
    "    dfsVisited[node]=False\n",
    "    return False\n",
    "\n",
    "\n",
    "\n",
    "def detectCycleInDirectedGraph(n, edges):\n",
    "    # Write your code here\n",
    "    adjList=dict()\n",
    "    prepareAdjList(adjList,edges)\n",
    "    #print(adjList)\n",
    "    \n",
    "    dfsVisited=dict()\n",
    "    visited=dict()\n",
    "    ans=[]\n",
    "    for i in range(1,n+1):\n",
    "        if not visited.get(i,False):\n",
    "            isCycle=dfs(visited,dfsVisited,i,adjList)\n",
    "            if isCycle:\n",
    "                return True\n",
    "    return False\n",
    "    \n"
   ]
  },
  {
   "cell_type": "code",
   "execution_count": 1,
   "metadata": {},
   "outputs": [],
   "source": [
    "n=5\n",
    "e=4\n",
    "data=\"\"\"\n",
    "1 2\n",
    "2 3\n",
    "3 4\n",
    "4 5\n",
    "\"\"\"\n",
    "edges=[]\n",
    "for edge in data.split(\"\\n\"):\n",
    "    if len(edge)==0:\n",
    "        continue\n",
    "    print(edge)\n",
    "    edges.append(list(map(int,edge.split(\" \"))))\n"
   ]
  },
  {
   "cell_type": "code",
   "execution_count": 8,
   "metadata": {},
   "outputs": [
    {
     "name": "stdout",
     "output_type": "stream",
     "text": [
      "1 2\n",
      "2 3\n",
      "3 4\n",
      "4 5\n"
     ]
    }
   ],
   "source": []
  },
  {
   "cell_type": "code",
   "execution_count": 9,
   "metadata": {},
   "outputs": [
    {
     "data": {
      "text/plain": [
       "[[1, 2], [2, 3], [3, 4], [4, 5]]"
      ]
     },
     "execution_count": 9,
     "metadata": {},
     "output_type": "execute_result"
    }
   ],
   "source": [
    "edges"
   ]
  },
  {
   "cell_type": "code",
   "execution_count": null,
   "metadata": {},
   "outputs": [],
   "source": [
    "2\n",
    "5\n",
    "4\n",
    "\"\"\"\n",
    "1 2\n",
    "2 3\n",
    "3 4\n",
    "4 5\n",
    "\"\"\"\n",
    "\n",
    "\n",
    "2\n",
    "1\n",
    "1 2\n"
   ]
  },
  {
   "cell_type": "code",
   "execution_count": 11,
   "metadata": {},
   "outputs": [
    {
     "data": {
      "text/plain": [
       "{1: 2}"
      ]
     },
     "execution_count": 11,
     "metadata": {},
     "output_type": "execute_result"
    }
   ],
   "source": [
    "dict(zip([1],[2]))"
   ]
  },
  {
   "cell_type": "code",
   "execution_count": null,
   "metadata": {},
   "outputs": [],
   "source": []
  }
 ],
 "metadata": {
  "kernelspec": {
   "display_name": "base",
   "language": "python",
   "name": "python3"
  },
  "language_info": {
   "codemirror_mode": {
    "name": "ipython",
    "version": 3
   },
   "file_extension": ".py",
   "mimetype": "text/x-python",
   "name": "python",
   "nbconvert_exporter": "python",
   "pygments_lexer": "ipython3",
   "version": "3.11.5"
  }
 },
 "nbformat": 4,
 "nbformat_minor": 2
}
