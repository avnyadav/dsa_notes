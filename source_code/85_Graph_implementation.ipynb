{
 "cells": [
  {
   "cell_type": "code",
   "execution_count": 23,
   "metadata": {},
   "outputs": [],
   "source": [
    "# Adjecency List\n",
    "\n",
    "\n",
    "class Graph:\n",
    "\n",
    "    def __init__(self) -> None:\n",
    "        self.underOrderedGraph=dict()\n",
    "\n",
    "    def addNode(self,node):\n",
    "        self.underOrderedGraph[node]=[]\n",
    "    \n",
    "    def isNodeExist(self,node):\n",
    "        if self.underOrderedGraph.get(node,None):\n",
    "            return True\n",
    "        return False\n",
    "\n",
    "    def addEdge(self,startNode,endNode,isDirected=False):\n",
    "        if not  self.isNodeExist(startNode):\n",
    "            self.addNode(node=startNode)\n",
    "        self.underOrderedGraph[startNode].append(endNode)\n",
    "\n",
    "        if isDirected:\n",
    "            if not self.isNodeExist(endNode):\n",
    "                self.addNode(endNode)\n",
    "            self.underOrderedGraph[endNode].append(startNode)\n",
    "\n",
    "\n",
    "    def getGraph(self):\n",
    "        return self.underOrderedGraph"
   ]
  },
  {
   "cell_type": "code",
   "execution_count": 24,
   "metadata": {},
   "outputs": [],
   "source": [
    "g = Graph()"
   ]
  },
  {
   "cell_type": "code",
   "execution_count": 25,
   "metadata": {},
   "outputs": [],
   "source": [
    "g.addEdge(0,1,1)"
   ]
  },
  {
   "cell_type": "code",
   "execution_count": 14,
   "metadata": {},
   "outputs": [
    {
     "data": {
      "text/plain": [
       "{0: [1]}"
      ]
     },
     "execution_count": 14,
     "metadata": {},
     "output_type": "execute_result"
    }
   ],
   "source": [
    "g.getGraph()"
   ]
  },
  {
   "cell_type": "code",
   "execution_count": 26,
   "metadata": {},
   "outputs": [],
   "source": [
    "g.addEdge(0,2,1)"
   ]
  },
  {
   "cell_type": "code",
   "execution_count": 27,
   "metadata": {},
   "outputs": [
    {
     "data": {
      "text/plain": [
       "{0: [1, 2], 1: [0], 2: [0]}"
      ]
     },
     "execution_count": 27,
     "metadata": {},
     "output_type": "execute_result"
    }
   ],
   "source": [
    "g.getGraph()"
   ]
  },
  {
   "cell_type": "code",
   "execution_count": 28,
   "metadata": {},
   "outputs": [],
   "source": [
    "g.addEdge(2,0)"
   ]
  },
  {
   "cell_type": "code",
   "execution_count": 29,
   "metadata": {},
   "outputs": [
    {
     "data": {
      "text/plain": [
       "{0: [1, 2], 1: [0], 2: [0, 0]}"
      ]
     },
     "execution_count": 29,
     "metadata": {},
     "output_type": "execute_result"
    }
   ],
   "source": [
    "g.getGraph()"
   ]
  },
  {
   "cell_type": "code",
   "execution_count": 30,
   "metadata": {},
   "outputs": [],
   "source": [
    "g.addEdge(1,2)"
   ]
  },
  {
   "cell_type": "code",
   "execution_count": 31,
   "metadata": {},
   "outputs": [
    {
     "data": {
      "text/plain": [
       "{0: [1, 2], 1: [0, 2], 2: [0, 0]}"
      ]
     },
     "execution_count": 31,
     "metadata": {},
     "output_type": "execute_result"
    }
   ],
   "source": [
    "g.getGraph()"
   ]
  },
  {
   "cell_type": "code",
   "execution_count": 1,
   "metadata": {},
   "outputs": [
    {
     "name": "stdout",
     "output_type": "stream",
     "text": [
      "0\n",
      "1\n",
      "2\n"
     ]
    }
   ],
   "source": [
    "for i in range(3):\n",
    "    print(i)"
   ]
  },
  {
   "cell_type": "code",
   "execution_count": 2,
   "metadata": {},
   "outputs": [
    {
     "data": {
      "text/plain": [
       "2"
      ]
     },
     "execution_count": 2,
     "metadata": {},
     "output_type": "execute_result"
    }
   ],
   "source": [
    "i"
   ]
  },
  {
   "cell_type": "code",
   "execution_count": null,
   "metadata": {},
   "outputs": [],
   "source": []
  },
  {
   "cell_type": "code",
   "execution_count": null,
   "metadata": {},
   "outputs": [],
   "source": []
  },
  {
   "cell_type": "code",
   "execution_count": 1,
   "metadata": {},
   "outputs": [
    {
     "ename": "SyntaxError",
     "evalue": "expected ':' (3246218336.py, line 22)",
     "output_type": "error",
     "traceback": [
      "\u001b[1;36m  Cell \u001b[1;32mIn[1], line 22\u001b[1;36m\u001b[0m\n\u001b[1;33m    for c in range(start_col_idx,start_col_idx+3)\u001b[0m\n\u001b[1;37m                                                 ^\u001b[0m\n\u001b[1;31mSyntaxError\u001b[0m\u001b[1;31m:\u001b[0m expected ':'\n"
     ]
    }
   ],
   "source": [
    "from os import *\n",
    "from sys import *\n",
    "from collections import *\n",
    "from math import *\n",
    "\n",
    "def isNumberAcceptable(row,col,number,sudoku):\n",
    "    #check if a row contain same number already\n",
    "    for c in range(9):\n",
    "        if sudoku[row][c]==number:\n",
    "            return False\n",
    "    \n",
    "    #check if a column contain same number already\n",
    "    for r in range(9):\n",
    "        if sudoku[r][col]==number:\n",
    "            return False \n",
    "    \n",
    "    #sub cube\n",
    "    \n",
    "    start_col_idx=(col/3)*3\n",
    "    start_row_idx=(row/3)*3\n",
    "    for r in range(start_row_idx,start_row_idx+3):\n",
    "        for c in range(start_col_idx,start_col_idx+3)\n",
    "            if sudoku[r][c]==number:\n",
    "                return False\n",
    "    return True\n",
    "\n",
    "def solve(sudoku,ans):\n",
    "\n",
    "    isSudokuSolved=True\n",
    "    for row in range(9):\n",
    "        for col in range(9):\n",
    "            if sudoku[row][col]==0:\n",
    "                isSudokuSolved=False\n",
    "                for n in range(1,10):\n",
    "    \n",
    "                    if isNumberAcceptable(row,col,n,sudoku):\n",
    "                        sudoku[row][col]=n\n",
    "                        solve(sudoku)\n",
    "                        sudoku[row][col]=0\n",
    "                \n",
    "    if isSudokuSolved:\n",
    "        for i in range(9):\n",
    "            ans.append(list())\n",
    "            for j in range(9):\n",
    "                ans[i].append(sudoku[i][j])\n",
    "\n",
    "def solveSudoku(sudoku):\n",
    "    ans=[]\n",
    "    solve(sudoku,ans)\n",
    "    return ans\n",
    "    # Write your code here."
   ]
  },
  {
   "cell_type": "code",
   "execution_count": null,
   "metadata": {},
   "outputs": [],
   "source": []
  },
  {
   "cell_type": "code",
   "execution_count": null,
   "metadata": {},
   "outputs": [],
   "source": []
  },
  {
   "cell_type": "code",
   "execution_count": null,
   "metadata": {},
   "outputs": [],
   "source": []
  },
  {
   "cell_type": "code",
   "execution_count": null,
   "metadata": {},
   "outputs": [],
   "source": []
  },
  {
   "cell_type": "code",
   "execution_count": null,
   "metadata": {},
   "outputs": [],
   "source": []
  },
  {
   "cell_type": "code",
   "execution_count": null,
   "metadata": {},
   "outputs": [],
   "source": []
  },
  {
   "cell_type": "code",
   "execution_count": null,
   "metadata": {},
   "outputs": [],
   "source": []
  },
  {
   "cell_type": "code",
   "execution_count": null,
   "metadata": {},
   "outputs": [],
   "source": []
  },
  {
   "cell_type": "code",
   "execution_count": null,
   "metadata": {},
   "outputs": [],
   "source": []
  },
  {
   "cell_type": "code",
   "execution_count": null,
   "metadata": {},
   "outputs": [],
   "source": []
  },
  {
   "cell_type": "code",
   "execution_count": null,
   "metadata": {},
   "outputs": [],
   "source": []
  },
  {
   "cell_type": "code",
   "execution_count": null,
   "metadata": {},
   "outputs": [],
   "source": []
  },
  {
   "cell_type": "code",
   "execution_count": null,
   "metadata": {},
   "outputs": [],
   "source": []
  },
  {
   "cell_type": "code",
   "execution_count": null,
   "metadata": {},
   "outputs": [],
   "source": []
  },
  {
   "cell_type": "code",
   "execution_count": null,
   "metadata": {},
   "outputs": [],
   "source": []
  },
  {
   "cell_type": "code",
   "execution_count": null,
   "metadata": {},
   "outputs": [],
   "source": []
  }
 ],
 "metadata": {
  "kernelspec": {
   "display_name": "base",
   "language": "python",
   "name": "python3"
  },
  "language_info": {
   "codemirror_mode": {
    "name": "ipython",
    "version": 3
   },
   "file_extension": ".py",
   "mimetype": "text/x-python",
   "name": "python",
   "nbconvert_exporter": "python",
   "pygments_lexer": "ipython3",
   "version": "3.11.5"
  }
 },
 "nbformat": 4,
 "nbformat_minor": 2
}
