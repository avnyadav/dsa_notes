{
 "cells": [
  {
   "cell_type": "code",
   "execution_count": null,
   "metadata": {},
   "outputs": [],
   "source": [
    "from os import *\n",
    "from sys import *\n",
    "from collections import *\n",
    "from math import *\n",
    "\n",
    "#DLRU\n",
    "def isSafe(x,y,n,visitedNode,arr):\n",
    "    if x>=0 and x<n and y>=0 and y<n and visitedNode[x][y]==0 and arr[x][y]==1:\n",
    "        return True\n",
    "    return False\n",
    "\n",
    "def getPaths(arr,n,x,y,path,ans,visitedNode):\n",
    "    if arr[0][0]==0:\n",
    "        return\n",
    "    if x==n-1 and y==n-1:\n",
    "        ans.append(path)\n",
    "        return \n",
    "    visitedNode[x][y]=1\n",
    "    #move down\n",
    "    if isSafe(x+1,y,n,visitedNode,arr):\n",
    "    \n",
    "        getPaths(arr,n,x+1,y,f\"{path}D\",ans,visitedNode)\n",
    "      \n",
    "    \n",
    "    \n",
    "    #move left\n",
    "    if isSafe(x,y-1,n,visitedNode,arr):\n",
    "      \n",
    "        getPaths(arr,n,x,y-1,f\"{path}L\",ans,visitedNode)\n",
    "       \n",
    "\n",
    "      \n",
    "    #move right\n",
    "    if isSafe(x,y+1,n,visitedNode,arr):\n",
    "      \n",
    "        getPaths(arr,n,x,y+1,f\"{path}R\",ans,visitedNode)\n",
    "       \n",
    "\n",
    "      \n",
    "    #move UP\n",
    "    if isSafe(x-1,y,n,visitedNode,arr):\n",
    "       \n",
    "        getPaths(arr,n,x-1,y,f\"{path}U\",ans,visitedNode)\n",
    "      \n",
    "    visitedNode[x][y]=0\n",
    "\n",
    "\n",
    "def searchMaze(arr, n):\n",
    "    # Write your code here.\n",
    "    ans = []\n",
    "    visitedNode=[]\n",
    "    path=\"\"\n",
    "    for i in range(n):\n",
    "        visitedNode.append(list())\n",
    "        for j in range(n):\n",
    "            visitedNode[i].append(0)\n",
    "    getPaths(arr,n,0,0,path,ans,visitedNode)\n",
    "    return ansb"
   ]
  },
  {
   "cell_type": "code",
   "execution_count": 9,
   "metadata": {},
   "outputs": [
    {
     "data": {
      "text/plain": [
       "-1"
      ]
     },
     "execution_count": 9,
     "metadata": {},
     "output_type": "execute_result"
    }
   ],
   "source": [
    "\"AB\".find('B',3)"
   ]
  },
  {
   "cell_type": "code",
   "execution_count": null,
   "metadata": {},
   "outputs": [],
   "source": []
  }
 ],
 "metadata": {
  "kernelspec": {
   "display_name": "base",
   "language": "python",
   "name": "python3"
  },
  "language_info": {
   "codemirror_mode": {
    "name": "ipython",
    "version": 3
   },
   "file_extension": ".py",
   "mimetype": "text/x-python",
   "name": "python",
   "nbconvert_exporter": "python",
   "pygments_lexer": "ipython3",
   "version": "3.11.5"
  }
 },
 "nbformat": 4,
 "nbformat_minor": 2
}
