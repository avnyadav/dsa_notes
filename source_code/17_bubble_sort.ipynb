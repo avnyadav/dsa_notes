{
 "cells": [
  {
   "cell_type": "code",
   "execution_count": null,
   "metadata": {},
   "outputs": [],
   "source": [
    "from os import *\n",
    "from sys import *\n",
    "from collections import *\n",
    "from math import *\n",
    "\n",
    "def bubbleSort(arr,n):\n",
    "    # Write your code here\n",
    "    # Do not return anything. Update the given array in-place\n",
    "    for i in range(1,n):\n",
    "        for j in range(n-i):\n",
    "            if arr[j]>arr[j+1]:\n",
    "                arr[j],arr[j+1]=arr[j+1],arr[j]\n",
    "    \n",
    "    return arr"
   ]
  },
  {
   "cell_type": "code",
   "execution_count": null,
   "metadata": {},
   "outputs": [],
   "source": [
    "#optimized\n",
    "\n",
    "from os import *\n",
    "from sys import *\n",
    "from collections import *\n",
    "from math import *\n",
    "\n",
    "def bubbleSort(arr,n):\n",
    "    # Write your code here\n",
    "    # Do not return anything. Update the given array in-place\n",
    "    \n",
    "    for i in range(1,n):\n",
    "        swapped=False\n",
    "        for j in range(n-i):\n",
    "            if arr[j]>arr[j+1]:\n",
    "                arr[j],arr[j+1]=arr[j+1],arr[j]\n",
    "                swapped=True\n",
    "        if not swapped:\n",
    "            #array is already sorted hence can be ignore\n",
    "            break\n",
    "    return arr"
   ]
  }
 ],
 "metadata": {
  "language_info": {
   "name": "python"
  }
 },
 "nbformat": 4,
 "nbformat_minor": 2
}
