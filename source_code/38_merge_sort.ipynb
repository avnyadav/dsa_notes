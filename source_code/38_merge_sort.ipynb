{
 "cells": [
  {
   "cell_type": "code",
   "execution_count": 20,
   "metadata": {},
   "outputs": [],
   "source": [
    "def mergeSortAlgo(arr,s,e):\n",
    "    if s==e:\n",
    "        return arr[s:e+1]\n",
    "    mid= (s+e+1)//2\n",
    "    leftArr = mergeSortAlgo(arr=arr,s=s,e=mid-1)\n",
    "    rightArr = mergeSortAlgo(arr=arr,s=mid,e=e)\n",
    "\n",
    "    sortedArr = []\n",
    "    leftArrIdx,rightArrIdx=0,0\n",
    "    leftArrSize,rightArrSize=len(leftArr),len(rightArr)\n",
    "\n",
    "    while leftArrIdx<leftArrSize and rightArrIdx<rightArrSize:\n",
    "        if leftArr[leftArrIdx]<rightArr[rightArrIdx]:\n",
    "            sortedArr.append(leftArr[leftArrIdx])\n",
    "            leftArrIdx+=1\n",
    "        else:\n",
    "            sortedArr.append(rightArr[rightArrIdx])\n",
    "            rightArrIdx+=1\n",
    "    \n",
    "    \n",
    "    while leftArrIdx<leftArrSize:\n",
    "        sortedArr.append(leftArr[leftArrIdx])\n",
    "        leftArrIdx+=1\n",
    "\n",
    "    while rightArrIdx<rightArrSize:\n",
    "        sortedArr.append(rightArr[rightArrIdx])\n",
    "        rightArrIdx+=1\n",
    "\n",
    "    return sortedArr\n",
    "\n",
    "if __name__==\"__main__\":\n",
    "    arr= [45,67,89,10,1,3,5,2]\n",
    "    print(mergeSortAlgo(arr,s=0,e=len(arr)-1))"
   ]
  },
  {
   "cell_type": "code",
   "execution_count": 21,
   "metadata": {},
   "outputs": [
    {
     "ename": "IndexError",
     "evalue": "list assignment index out of range",
     "output_type": "error",
     "traceback": [
      "\u001b[1;31m---------------------------------------------------------------------------\u001b[0m",
      "\u001b[1;31mIndexError\u001b[0m                                Traceback (most recent call last)",
      "Cell \u001b[1;32mIn[21], line 1\u001b[0m\n\u001b[1;32m----> 1\u001b[0m \u001b[43mmergeSort\u001b[49m\u001b[43m(\u001b[49m\u001b[43m[\u001b[49m\u001b[38;5;241;43m1\u001b[39;49m\u001b[43m,\u001b[49m\u001b[38;5;241;43m2\u001b[39;49m\u001b[43m]\u001b[49m\u001b[43m,\u001b[49m\u001b[38;5;241;43m0\u001b[39;49m\u001b[43m,\u001b[49m\u001b[38;5;241;43m1\u001b[39;49m\u001b[43m)\u001b[49m\n",
      "Cell \u001b[1;32mIn[20], line 21\u001b[0m, in \u001b[0;36mmergeSort\u001b[1;34m(arr, s, e)\u001b[0m\n\u001b[0;32m     18\u001b[0m     sortedArrIdx\u001b[38;5;241m+\u001b[39m\u001b[38;5;241m=\u001b[39m\u001b[38;5;241m1\u001b[39m\n\u001b[0;32m     20\u001b[0m \u001b[38;5;28;01mwhile\u001b[39;00m leftArrIdx\u001b[38;5;241m<\u001b[39mleftArrSize:\n\u001b[1;32m---> 21\u001b[0m     \u001b[43msortedArr\u001b[49m\u001b[43m[\u001b[49m\u001b[43msortedArrIdx\u001b[49m\u001b[43m]\u001b[49m\u001b[38;5;241m=\u001b[39mleftArr[leftArrIdx]\n\u001b[0;32m     22\u001b[0m     sortedArrIdx\u001b[38;5;241m+\u001b[39m\u001b[38;5;241m=\u001b[39m\u001b[38;5;241m1\u001b[39m\n\u001b[0;32m     23\u001b[0m     leftArrIdx\u001b[38;5;241m+\u001b[39m\u001b[38;5;241m=\u001b[39m\u001b[38;5;241m1\u001b[39m\n",
      "\u001b[1;31mIndexError\u001b[0m: list assignment index out of range"
     ]
    }
   ],
   "source": [
    "mergeSort([1,2],0,1)"
   ]
  },
  {
   "cell_type": "code",
   "execution_count": 6,
   "metadata": {},
   "outputs": [],
   "source": [
    "arr=[1,2]"
   ]
  },
  {
   "cell_type": "code",
   "execution_count": null,
   "metadata": {},
   "outputs": [],
   "source": []
  },
  {
   "cell_type": "code",
   "execution_count": null,
   "metadata": {},
   "outputs": [],
   "source": []
  }
 ],
 "metadata": {
  "kernelspec": {
   "display_name": "base",
   "language": "python",
   "name": "python3"
  },
  "language_info": {
   "codemirror_mode": {
    "name": "ipython",
    "version": 3
   },
   "file_extension": ".py",
   "mimetype": "text/x-python",
   "name": "python",
   "nbconvert_exporter": "python",
   "pygments_lexer": "ipython3",
   "version": "3.11.5"
  }
 },
 "nbformat": 4,
 "nbformat_minor": 2
}
