{
 "cells": [
  {
   "cell_type": "markdown",
   "metadata": {},
   "source": [
    "nums = [4,5,6,7,0,1,2], target = 0\n",
    "Output: 4"
   ]
  },
  {
   "cell_type": "code",
   "execution_count": null,
   "metadata": {},
   "outputs": [],
   "source": [
    "from typing import List\n",
    "class Solution:\n",
    "    def search(self, nums: List[int], target: int) -> int:\n",
    "\n",
    "        l,u = 0,len(nums)-1\n",
    "\n",
    "        while l<u:\n",
    "            mid = (l+u+1)//2\n",
    "\n",
    "            if nums[mid]==target:\n",
    "                return mid\n",
    "            \n",
    "            #Choose right second mean update left index to mid\n",
    "            \"\"\"\n",
    "            4,5,6,7,0,1,2\n",
    "            mid=7\n",
    "            \n",
    "            case 1\n",
    "            searching for 2 \n",
    "\n",
    "            case 2\n",
    "            searching for 4\n",
    "\n",
    "            \"\"\"\n",
    "            if target<nums[mid]:\n",
    "                if target<nums[l]:\n",
    "                    l=mid+1\n",
    "                else:\n",
    "                    u=mid-1\n",
    "          \n",
    "            elif target>nums[mid]:\n",
    "                if target>nums[u]:\n",
    "                    u=mid-1\n",
    "                else:\n",
    "                    l=mid+1    \n",
    "        \n",
    "        return -1\n",
    "\n",
    "        \"\"\"\n",
    "            mid=1\n",
    "                4,5,6,7,0,1,2,3\n",
    "            case 1 \n",
    "            searching for 4\n",
    "            \n",
    "            case 2 searching for 2\n",
    "            \"\"\"\n",
    "        \n",
    "\n",
    "            \n",
    "\n",
    "\n",
    "\n",
    "\n"
   ]
  }
 ],
 "metadata": {
  "kernelspec": {
   "display_name": "base",
   "language": "python",
   "name": "python3"
  },
  "language_info": {
   "codemirror_mode": {
    "name": "ipython",
    "version": 3
   },
   "file_extension": ".py",
   "mimetype": "text/x-python",
   "name": "python",
   "nbconvert_exporter": "python",
   "pygments_lexer": "ipython3",
   "version": "3.12.8"
  }
 },
 "nbformat": 4,
 "nbformat_minor": 2
}
