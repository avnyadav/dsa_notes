{
 "cells": [
  {
   "cell_type": "code",
   "execution_count": 3,
   "metadata": {},
   "outputs": [],
   "source": [
    "from typing import List\n",
    "class Solution:\n",
    "\n",
    "    def findSubstring(self, words:List[str])->List[str]:\n",
    "\n",
    "        res=[]\n",
    "\n",
    "        n:int = len(words)\n",
    "        def backTrack(idx,current_str,n_words):\n",
    "            if idx==n:\n",
    "                res.append(current_str)\n",
    "                return res\n",
    "            \n",
    "            for mod in range(1,n_words):\n",
    "                t_idx = idx%mod\n",
    "                backTrack(idx+1,f\"{current_str}{words[t_idx]}\",n_words)\n",
    "        \n",
    "        backTrack(0,\"\",len(words))\n",
    "\n",
    "        return res\n",
    "\n"
   ]
  },
  {
   "cell_type": "code",
   "execution_count": 4,
   "metadata": {},
   "outputs": [
    {
     "data": {
      "text/plain": [
       "['abab']"
      ]
     },
     "execution_count": 4,
     "metadata": {},
     "output_type": "execute_result"
    }
   ],
   "source": [
    "Solution().findSubstring([\"ab\",\"bc\"])"
   ]
  },
  {
   "cell_type": "code",
   "execution_count": null,
   "metadata": {},
   "outputs": [],
   "source": []
  }
 ],
 "metadata": {
  "kernelspec": {
   "display_name": "base",
   "language": "python",
   "name": "python3"
  },
  "language_info": {
   "codemirror_mode": {
    "name": "ipython",
    "version": 3
   },
   "file_extension": ".py",
   "mimetype": "text/x-python",
   "name": "python",
   "nbconvert_exporter": "python",
   "pygments_lexer": "ipython3",
   "version": "3.12.8"
  }
 },
 "nbformat": 4,
 "nbformat_minor": 2
}
