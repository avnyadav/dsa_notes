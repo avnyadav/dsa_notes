{
 "cells": [
  {
   "cell_type": "code",
   "execution_count": 2,
   "metadata": {},
   "outputs": [],
   "source": [
    "class Node:\n",
    "    def __init__(self,val):\n",
    "        self.data = val\n",
    "        self.left = None\n",
    "        self.right = None\n",
    "\n",
    "        "
   ]
  },
  {
   "cell_type": "code",
   "execution_count": 3,
   "metadata": {},
   "outputs": [],
   "source": [
    "class Node:\n",
    "    def __init__(self,val):\n",
    "        self.data = val\n",
    "        self.left = None\n",
    "        self.right = None\n",
    "\n",
    "        "
   ]
  },
  {
   "cell_type": "code",
   "execution_count": 4,
   "metadata": {},
   "outputs": [],
   "source": [
    "node = Node(10)"
   ]
  },
  {
   "cell_type": "code",
   "execution_count": 7,
   "metadata": {},
   "outputs": [],
   "source": [
    "\n",
    "    \n",
    "def isCBT(root):\n",
    "    if root is None:\n",
    "        return True\n",
    "    if root.left is None and root.right is not None:\n",
    "        return False\n",
    "    else:\n",
    "        return isCBT(root.left) and isCBT(root.right)"
   ]
  },
  {
   "cell_type": "code",
   "execution_count": 33,
   "metadata": {},
   "outputs": [
    {
     "data": {
      "text/plain": [
       "True"
      ]
     },
     "execution_count": 33,
     "metadata": {},
     "output_type": "execute_result"
    }
   ],
   "source": [
    "isCBT(node)"
   ]
  },
  {
   "cell_type": "code",
   "execution_count": 18,
   "metadata": {},
   "outputs": [],
   "source": [
    "node.left=left\n",
    "node.right=right"
   ]
  },
  {
   "cell_type": "code",
   "execution_count": 15,
   "metadata": {},
   "outputs": [],
   "source": [
    "left=Node(10)"
   ]
  },
  {
   "cell_type": "code",
   "execution_count": 16,
   "metadata": {},
   "outputs": [],
   "source": [
    "right=Node(20)"
   ]
  },
  {
   "cell_type": "code",
   "execution_count": 25,
   "metadata": {},
   "outputs": [],
   "source": [
    "left.right=Node(10)\n",
    "left.left=Node(13)"
   ]
  },
  {
   "cell_type": "code",
   "execution_count": 32,
   "metadata": {},
   "outputs": [],
   "source": [
    "right.left=Node(6) \n",
    "right.right=Node(3)"
   ]
  },
  {
   "cell_type": "code",
   "execution_count": 37,
   "metadata": {},
   "outputs": [
    {
     "name": "stdout",
     "output_type": "stream",
     "text": [
      "1\n"
     ]
    }
   ],
   "source": [
    "\n",
    "'''\n",
    "class Node:\n",
    "    def __init__(self,val):\n",
    "        self.data = val\n",
    "        self.left = None\n",
    "        self.right = None\n",
    "'''\n",
    "\n",
    "class Solution:\n",
    "    #Your Function Should return True/False\n",
    "    \n",
    "    \n",
    "    def isCBT(self,root):\n",
    "        if root is None:\n",
    "            return True\n",
    "        if root.left is None and root.right is not None:\n",
    "            return False\n",
    "        else:\n",
    "            return self.isCBT(root.left) and self.isCBT(root.right)\n",
    "            \n",
    "    \n",
    "    def isMaxProperty(self,root):\n",
    "        if root.left is None and root.right is None:\n",
    "            return True\n",
    "        if root.right is None:\n",
    "            return root.data>root.left.data\n",
    "        else:\n",
    "            left = self.isMaxProperty(root.left)\n",
    "            right = self.isMaxProperty(root.right)\n",
    "            \n",
    "            return left and right and root.data>root.left.data and root.data>root.right.data\n",
    "        \n",
    "    \n",
    "    def isHeap(self, root):\n",
    "        #Code Here\n",
    "        if self.isCBT(root) and self.isMaxProperty(root):\n",
    "            return True\n",
    "        return False\n",
    "            \n",
    "        \n",
    "        \n",
    "\n",
    "#{ \n",
    " # Driver Code Starts\n",
    "#Initial Template for Python 3\n",
    "\n",
    "#Contributed by Susanta Mukherjee\n",
    "import sys\n",
    "sys.setrecursionlimit(10**6)\n",
    "from collections import deque\n",
    "# Tree Node\n",
    "class Node:\n",
    "    def __init__(self, val):\n",
    "        self.right = None\n",
    "        self.data = val\n",
    "        self.left = None\n",
    "\n",
    "    \n",
    "# Function to Build Tree   \n",
    "def buildTree(s):\n",
    "    #Corner Case\n",
    "    if(len(s)==0 or s[0]==\"N\"):           \n",
    "        return None\n",
    "        \n",
    "    # Creating list of strings from input \n",
    "    # string after spliting by space\n",
    "    ip=list(map(str,s.split()))\n",
    "    \n",
    "    # Create the root of the tree\n",
    "    root=Node(int(ip[0]))                     \n",
    "    size=0\n",
    "    q=deque()\n",
    "    \n",
    "    # Push the root to the queue\n",
    "    q.append(root)                            \n",
    "    size=size+1 \n",
    "    \n",
    "    # Starting from the second element\n",
    "    i=1                                       \n",
    "    while(size>0 and i<len(ip)):\n",
    "        # Get and remove the front of the queue\n",
    "        currNode=q[0]\n",
    "        q.popleft()\n",
    "        size=size-1\n",
    "        \n",
    "        # Get the current node's value from the string\n",
    "        currVal=ip[i]\n",
    "        \n",
    "        # If the left child is not null\n",
    "        if(currVal!=\"N\"):\n",
    "            \n",
    "            # Create the left child for the current node\n",
    "            currNode.left=Node(int(currVal))\n",
    "            \n",
    "            # Push it to the queue\n",
    "            q.append(currNode.left)\n",
    "            size=size+1\n",
    "        # For the right child\n",
    "        i=i+1\n",
    "        if(i>=len(ip)):\n",
    "            break\n",
    "        currVal=ip[i]\n",
    "        \n",
    "        # If the right child is not null\n",
    "        if(currVal!=\"N\"):\n",
    "            \n",
    "            # Create the right child for the current node\n",
    "            currNode.right=Node(int(currVal))\n",
    "            \n",
    "            # Push it to the queue\n",
    "            q.append(currNode.right)\n",
    "            size=size+1\n",
    "        i=i+1\n",
    "    return root\n",
    "    \n",
    "\n",
    "\n",
    "if __name__==\"__main__\":\n",
    "    t=int(input())\n",
    "    for _ in range(0,t):\n",
    "        root=buildTree(input())\n",
    "        ob = Solution()\n",
    "    if ob.isHeap(root):\n",
    "        print(1)\n",
    "    else:\n",
    "        print(0)\n",
    "        \n",
    "        \n",
    "\n",
    "# } Driver Code Ends"
   ]
  },
  {
   "cell_type": "code",
   "execution_count": null,
   "metadata": {},
   "outputs": [],
   "source": []
  }
 ],
 "metadata": {
  "kernelspec": {
   "display_name": "base",
   "language": "python",
   "name": "python3"
  },
  "language_info": {
   "codemirror_mode": {
    "name": "ipython",
    "version": 3
   },
   "file_extension": ".py",
   "mimetype": "text/x-python",
   "name": "python",
   "nbconvert_exporter": "python",
   "pygments_lexer": "ipython3",
   "version": "3.11.5"
  }
 },
 "nbformat": 4,
 "nbformat_minor": 2
}
