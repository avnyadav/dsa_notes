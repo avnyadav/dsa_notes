{
 "cells": [
  {
   "cell_type": "code",
   "execution_count": 1,
   "metadata": {},
   "outputs": [],
   "source": [
    "class Demo:\n",
    "\n",
    "    def __init__(self) -> None:\n",
    "        self.data=[]"
   ]
  },
  {
   "cell_type": "code",
   "execution_count": 2,
   "metadata": {},
   "outputs": [],
   "source": [
    "demo=Demo()"
   ]
  },
  {
   "cell_type": "code",
   "execution_count": 3,
   "metadata": {},
   "outputs": [],
   "source": [
    "def updateData(demo):\n",
    "    demo.data=[1,2,3]"
   ]
  },
  {
   "cell_type": "code",
   "execution_count": 8,
   "metadata": {},
   "outputs": [],
   "source": [
    "a[0][1]=2"
   ]
  },
  {
   "cell_type": "code",
   "execution_count": 9,
   "metadata": {},
   "outputs": [
    {
     "data": {
      "text/plain": [
       "[[-1, 2, -1], [-1, -1, -1], [-1, -1, -1]]"
      ]
     },
     "execution_count": 9,
     "metadata": {},
     "output_type": "execute_result"
    }
   ],
   "source": [
    "a"
   ]
  },
  {
   "cell_type": "code",
   "execution_count": 7,
   "metadata": {},
   "outputs": [],
   "source": [
    "n=2\n",
    "a = [[-1 for i in range(0,n+1)] for i in range(0,n+1) ]"
   ]
  },
  {
   "cell_type": "code",
   "execution_count": 4,
   "metadata": {},
   "outputs": [
    {
     "data": {
      "text/plain": [
       "[]"
      ]
     },
     "execution_count": 4,
     "metadata": {},
     "output_type": "execute_result"
    }
   ],
   "source": [
    "demo.data"
   ]
  },
  {
   "cell_type": "code",
   "execution_count": 5,
   "metadata": {},
   "outputs": [],
   "source": [
    "updateData(demo)"
   ]
  },
  {
   "cell_type": "code",
   "execution_count": 6,
   "metadata": {},
   "outputs": [
    {
     "data": {
      "text/plain": [
       "[1, 2, 3]"
      ]
     },
     "execution_count": 6,
     "metadata": {},
     "output_type": "execute_result"
    }
   ],
   "source": [
    "demo.data"
   ]
  },
  {
   "cell_type": "code",
   "execution_count": 2,
   "metadata": {},
   "outputs": [],
   "source": [
    "from queue import Queue"
   ]
  },
  {
   "cell_type": "code",
   "execution_count": 6,
   "metadata": {},
   "outputs": [],
   "source": [
    "q=Queue(3)"
   ]
  },
  {
   "cell_type": "code",
   "execution_count": 8,
   "metadata": {},
   "outputs": [],
   "source": [
    "q.put(10)"
   ]
  },
  {
   "cell_type": "code",
   "execution_count": 5,
   "metadata": {},
   "outputs": [],
   "source": [
    "q.put(11)"
   ]
  },
  {
   "cell_type": "code",
   "execution_count": 6,
   "metadata": {},
   "outputs": [],
   "source": [
    "q.put(50)"
   ]
  },
  {
   "cell_type": "code",
   "execution_count": 10,
   "metadata": {},
   "outputs": [],
   "source": [
    "q.get()"
   ]
  },
  {
   "cell_type": "code",
   "execution_count": 9,
   "metadata": {},
   "outputs": [
    {
     "data": {
      "text/plain": [
       "False"
      ]
     },
     "execution_count": 9,
     "metadata": {},
     "output_type": "execute_result"
    }
   ],
   "source": [
    "q.empty()"
   ]
  },
  {
   "cell_type": "code",
   "execution_count": 10,
   "metadata": {},
   "outputs": [
    {
     "data": {
      "text/plain": [
       "False"
      ]
     },
     "execution_count": 10,
     "metadata": {},
     "output_type": "execute_result"
    }
   ],
   "source": [
    "q.full()"
   ]
  },
  {
   "cell_type": "code",
   "execution_count": null,
   "metadata": {},
   "outputs": [],
   "source": []
  },
  {
   "cell_type": "code",
   "execution_count": 12,
   "metadata": {},
   "outputs": [],
   "source": [
    "from collections import deque"
   ]
  },
  {
   "cell_type": "code",
   "execution_count": 13,
   "metadata": {},
   "outputs": [],
   "source": [
    "q=deque()"
   ]
  },
  {
   "cell_type": "code",
   "execution_count": 18,
   "metadata": {},
   "outputs": [],
   "source": [
    "q.append(1)"
   ]
  },
  {
   "cell_type": "code",
   "execution_count": 15,
   "metadata": {},
   "outputs": [
    {
     "data": {
      "text/plain": [
       "1"
      ]
     },
     "execution_count": 15,
     "metadata": {},
     "output_type": "execute_result"
    }
   ],
   "source": [
    "q.popleft()"
   ]
  },
  {
   "cell_type": "code",
   "execution_count": 16,
   "metadata": {},
   "outputs": [
    {
     "ename": "IndexError",
     "evalue": "pop from an empty deque",
     "output_type": "error",
     "traceback": [
      "\u001b[1;31m---------------------------------------------------------------------------\u001b[0m",
      "\u001b[1;31mIndexError\u001b[0m                                Traceback (most recent call last)",
      "Cell \u001b[1;32mIn[16], line 1\u001b[0m\n\u001b[1;32m----> 1\u001b[0m \u001b[43mq\u001b[49m\u001b[38;5;241;43m.\u001b[39;49m\u001b[43mpopleft\u001b[49m\u001b[43m(\u001b[49m\u001b[43m)\u001b[49m\n",
      "\u001b[1;31mIndexError\u001b[0m: pop from an empty deque"
     ]
    }
   ],
   "source": [
    "q.popleft()"
   ]
  },
  {
   "cell_type": "code",
   "execution_count": 19,
   "metadata": {},
   "outputs": [
    {
     "data": {
      "text/plain": [
       "1"
      ]
     },
     "execution_count": 19,
     "metadata": {},
     "output_type": "execute_result"
    }
   ],
   "source": [
    "len(q)"
   ]
  },
  {
   "cell_type": "code",
   "execution_count": 32,
   "metadata": {},
   "outputs": [],
   "source": [
    "data=\"\"\"8 7\n",
    "0 1\n",
    "0 2\n",
    "0 3\n",
    "1 4\n",
    "1 7\n",
    "2 5\n",
    "3 6\"\"\"\n",
    "data = [ list(map(int,edge.split(\" \"))) for edge in data.split(\"\\n\")]\n",
    "_,edge=data[0],data[1:]\n"
   ]
  },
  {
   "cell_type": "code",
   "execution_count": 33,
   "metadata": {},
   "outputs": [
    {
     "data": {
      "text/plain": [
       "[[0, 1], [0, 2], [0, 3], [1, 4], [1, 7], [2, 5], [3, 6]]"
      ]
     },
     "execution_count": 33,
     "metadata": {},
     "output_type": "execute_result"
    }
   ],
   "source": [
    "edge"
   ]
  },
  {
   "cell_type": "code",
   "execution_count": 1,
   "metadata": {},
   "outputs": [
    {
     "name": "stdout",
     "output_type": "stream",
     "text": [
      "1\n"
     ]
    }
   ],
   "source": [
    "import heapq\n",
    "\n",
    "# Create an empty heap\n",
    "heap = []\n",
    "\n",
    "# Insert elements into the heap\n",
    "heapq.heappush(heap, 5)\n",
    "heapq.heappush(heap, 3)\n",
    "heapq.heappush(heap, 8)\n",
    "heapq.heappush(heap, 1)\n",
    "\n",
    "# Get the minimum element\n",
    "min_value = heapq.heappop(heap)\n",
    "print(min_value)  # Output: 1\n"
   ]
  },
  {
   "cell_type": "code",
   "execution_count": 25,
   "metadata": {},
   "outputs": [],
   "source": [
    "from typing import List,Dict,Tuple\n",
    "import heapq\n",
    "\n",
    "class Node:\n",
    "    def __init__(self,distance:int,node:int) -> None:\n",
    "        self.distance:int=distance\n",
    "        self.node:int=node\n",
    "    def __repr__(self):\n",
    "        return f\"Node(distance={self.distance},node={self.node})\"\n",
    "\n",
    "    def __lt__(self,obj):\n",
    "        return self.distance<obj.distance\n",
    "\n",
    "class Heap:\n",
    "\n",
    "\tdef __init__(self):\n",
    "\t\tself.arr:List[Node]=[]\n",
    "\t\n",
    "\tdef push(self,item:Node):\n",
    "\t\theapq.heappush(self.arr,item)\n",
    "\t\n",
    "\tdef pop(self):\n",
    "\t\treturn heapq.heappop(self.arr)\n",
    "\t\n",
    "\t@property\n",
    "\tdef size(self):\n",
    "\t\treturn len(self.arr)\n",
    "\t\n",
    "\tdef top(self):\n",
    "\t\tif self.size>0:\n",
    "\t\t\treturn self.arr[0]\n",
    "\n"
   ]
  },
  {
   "cell_type": "code",
   "execution_count": 13,
   "metadata": {},
   "outputs": [],
   "source": []
  },
  {
   "cell_type": "code",
   "execution_count": null,
   "metadata": {},
   "outputs": [],
   "source": []
  },
  {
   "cell_type": "code",
   "execution_count": 14,
   "metadata": {},
   "outputs": [],
   "source": []
  },
  {
   "cell_type": "code",
   "execution_count": 55,
   "metadata": {},
   "outputs": [],
   "source": []
  },
  {
   "cell_type": "code",
   "execution_count": 35,
   "metadata": {},
   "outputs": [],
   "source": []
  },
  {
   "cell_type": "code",
   "execution_count": 51,
   "metadata": {},
   "outputs": [],
   "source": [
    "\n",
    "from typing import List,Dict,Tuple\n",
    "import heapq\n",
    "\n",
    "class Node:\n",
    "    def __init__(self,distance:int,node:int) -> None:\n",
    "        self.distance:int=distance\n",
    "        self.node:int=node\n",
    "    def __repr__(self):\n",
    "        return f\"Node(distance={self.distance},node={self.node})\"\n",
    "\n",
    "    def __lt__(self,obj):\n",
    "        return self.distance<obj.distance\n",
    "\n",
    "class Heap:\n",
    "\n",
    "\tdef __init__(self):\n",
    "\t\tself.arr:List[Node]=[]\n",
    "\t\n",
    "\tdef push(self,item:Node):\n",
    "\t\theapq.heappush(self.arr,item)\n",
    "\t\n",
    "\tdef pop(self):\n",
    "\t\treturn heapq.heappop(self.arr)\n",
    "\t\n",
    "\t@property\n",
    "\tdef size(self):\n",
    "\t\treturn len(self.arr)\n",
    "\t\n",
    "\tdef top(self):\n",
    "\t\tif self.size>0:\n",
    "\t\t\treturn self.arr[0]\n",
    "\n",
    "\n",
    "\n",
    "def prepareAdjList(vertices:int,vec:List[List[int]],adjList:Dict[int,Tuple[int,int]]):\n",
    "    \"\"\"\n",
    "    vec:[[0,1,2],[0,1,2]]\n",
    "    \"\"\"\n",
    "    for v in range(vertices):\n",
    "        adjList[v]=list()\n",
    "    for item in vec:\n",
    "        srcNode,dstNode,dist = item[0],item[1],item[2]\n",
    "        adjList[srcNode].append(Node(distance=dist,node=dstNode))\n",
    "        adjList[dstNode].append(Node(distance=dist,node=srcNode))\n",
    "        \n",
    "        \n",
    "\n",
    "def dijkstra(vec, vertices, edges, source):\n",
    "    adjList=dict()\n",
    "    distance=[]\n",
    "    for i in range(vertices):\n",
    "        distance.append(float('inf'))\n",
    "\n",
    "    prepareAdjList(vertices,vec,adjList)\n",
    "    \n",
    "    minHeap = Heap()\n",
    "    node = Node(distance=0,node=source)\n",
    "    minHeap.push(node) \n",
    "    distance[source]=0\n",
    "    while minHeap.size!=0:\n",
    "        minNode:Node = minHeap.pop()\n",
    "       \n",
    "        for neighbour in adjList[minNode.node]:\n",
    "            if minNode.distance+neighbour.distance<distance[neighbour.node]:\n",
    "                while neighbour in minHeap.arr:\n",
    "                    minHeap.arr.remove(neighbour)\n",
    "                distance[neighbour.node]=minNode.distance+neighbour.distance\n",
    "                #minHeap.push(neighbour)\n",
    "                minHeap.push(item=Node(distance=distance[neighbour.node],\n",
    "                                       node=neighbour.node\n",
    "                                       )\n",
    "                             )\n",
    "\n",
    "    return distance\n",
    "\n",
    "\n",
    "if __name__==\"__main__\":\n",
    "    #vec = [[0, 1, 5], [0, 2, 8], [1, 2, 9], [1, 3, 2], [2, 3, 6]]\n",
    "    edges=5\n",
    "    source=0\n",
    "    vertices=10\n",
    "    #vec = [[0, 1, 5], [0, 2, 8], [1, 2, 9], [1, 3, 2], [2, 3, 6]]\n",
    "    edges=5\n",
    "    source=0\n",
    "    vertices=10\n",
    "    lines=  \"\"\"\n",
    "    2 3 98\n",
    "    6 5 90 \n",
    "    4 6 89 \n",
    "    1 9 67 \n",
    "    6 4 51 \n",
    "    6 2 33 \n",
    "    3 8 40 \n",
    "    6 1 35\n",
    "    \"\"\"\n",
    "    items=lines.split(\"\\n\")\n",
    "    items = items[1:len(items)-1]\n",
    "    vec= []\n",
    "    for item in items:\n",
    "        vec.append(list(map(int,item.split())))\n",
    "    dijkstra(vec,vertices=vertices,edges=edges,source=source)"
   ]
  },
  {
   "cell_type": "code",
   "execution_count": 92,
   "metadata": {},
   "outputs": [
    {
     "data": {
      "text/plain": [
       "[0, inf, inf, inf, inf, inf, inf, inf, inf, inf]"
      ]
     },
     "execution_count": 92,
     "metadata": {},
     "output_type": "execute_result"
    }
   ],
   "source": [
    "#vec = [[0, 1, 5], [0, 2, 8], [1, 2, 9], [1, 3, 2], [2, 3, 6]]\n",
    "edges=5\n",
    "source=0\n",
    "vertices=10\n",
    "lines=  \"\"\"\n",
    "2 3 98\n",
    "6 5 90 \n",
    "4 6 89 \n",
    "1 9 67 \n",
    "6 4 51 \n",
    "6 2 33 \n",
    "3 8 40 \n",
    "6 1 35\n",
    "\"\"\"\n",
    "items=lines.split(\"\\n\")\n",
    "items = items[1:len(items)-1]\n",
    "vec= []\n",
    "for item in items:\n",
    "    vec.append(list(map(int,item.split())))\n",
    "dijkstra(vec,vertices=vertices,edges=edges,source=source)"
   ]
  },
  {
   "cell_type": "code",
   "execution_count": 85,
   "metadata": {},
   "outputs": [],
   "source": [
    "lines=  \"\"\"\n",
    "2 3 98\n",
    "6 5 90 \n",
    "4 6 89 \n",
    "1 9 67 \n",
    "6 4 51 \n",
    "6 2 33 \n",
    "3 8 40 \n",
    "6 1 35\n",
    "\"\"\"\n",
    "items=lines.split(\"\\n\")\n",
    "items = items[1:len(items)-1]\n",
    "vec= []\n",
    "for item in items:\n",
    "    vec.append(list(map(int,item.split())))"
   ]
  },
  {
   "cell_type": "code",
   "execution_count": 86,
   "metadata": {},
   "outputs": [],
   "source": []
  },
  {
   "cell_type": "code",
   "execution_count": 87,
   "metadata": {},
   "outputs": [
    {
     "data": {
      "text/plain": [
       "['2 3 98']"
      ]
     },
     "execution_count": 87,
     "metadata": {},
     "output_type": "execute_result"
    }
   ],
   "source": []
  },
  {
   "cell_type": "code",
   "execution_count": 89,
   "metadata": {},
   "outputs": [],
   "source": []
  },
  {
   "cell_type": "code",
   "execution_count": 90,
   "metadata": {},
   "outputs": [],
   "source": []
  },
  {
   "cell_type": "code",
   "execution_count": 91,
   "metadata": {},
   "outputs": [
    {
     "data": {
      "text/plain": [
       "[[6, 5, 90],\n",
       " [4, 6, 89],\n",
       " [1, 9, 67],\n",
       " [6, 4, 51],\n",
       " [6, 2, 33],\n",
       " [3, 8, 40],\n",
       " [6, 1, 35]]"
      ]
     },
     "execution_count": 91,
     "metadata": {},
     "output_type": "execute_result"
    }
   ],
   "source": [
    "vec"
   ]
  },
  {
   "cell_type": "code",
   "execution_count": 1,
   "metadata": {},
   "outputs": [],
   "source": [
    "from abc import ABC,abstractmethod,abstractproperty"
   ]
  },
  {
   "cell_type": "code",
   "execution_count": 5,
   "metadata": {},
   "outputs": [],
   "source": [
    "\n",
    "class Area(ABC):\n",
    "\n",
    "    @abstractmethod\n",
    "    def area(self):\n",
    "        pass\n"
   ]
  },
  {
   "cell_type": "code",
   "execution_count": 1,
   "metadata": {},
   "outputs": [
    {
     "data": {
      "text/plain": [
       "inf"
      ]
     },
     "execution_count": 1,
     "metadata": {},
     "output_type": "execute_result"
    }
   ],
   "source": [
    "float('inf')"
   ]
  },
  {
   "cell_type": "code",
   "execution_count": 2,
   "metadata": {},
   "outputs": [],
   "source": [
    "import pandas as pd"
   ]
  },
  {
   "cell_type": "code",
   "execution_count": 3,
   "metadata": {},
   "outputs": [],
   "source": [
    "df = pd.read_csv(\"timesheet-172-20240506.CSV\")"
   ]
  },
  {
   "cell_type": "code",
   "execution_count": 12,
   "metadata": {},
   "outputs": [
    {
     "data": {
      "text/plain": [
       "'06/05/2024'"
      ]
     },
     "execution_count": 12,
     "metadata": {},
     "output_type": "execute_result"
    }
   ],
   "source": [
    "df['Date'].sort_values()[0]"
   ]
  },
  {
   "cell_type": "code",
   "execution_count": 14,
   "metadata": {},
   "outputs": [
    {
     "data": {
      "text/plain": [
       "0      06/05/2024\n",
       "191    06/05/2024\n",
       "184    06/05/2024\n",
       "181    06/05/2024\n",
       "180    06/05/2024\n",
       "          ...    \n",
       "106    10/05/2024\n",
       "239    10/05/2024\n",
       "28     10/05/2024\n",
       "258    10/05/2024\n",
       "307           NaN\n",
       "Name: Date, Length: 308, dtype: object"
      ]
     },
     "execution_count": 14,
     "metadata": {},
     "output_type": "execute_result"
    }
   ],
   "source": [
    "df['Date'].sort_values()"
   ]
  },
  {
   "cell_type": "code",
   "execution_count": 15,
   "metadata": {},
   "outputs": [
    {
     "data": {
      "text/plain": [
       "AgencyName           0\n",
       "TimesheetUserName    1\n",
       "TimesheetUserCode    1\n",
       "Month                1\n",
       "ClientName           1\n",
       "BrandName            1\n",
       "Hours                0\n",
       "WeekCommencing       1\n",
       "Date                 1\n",
       "dtype: int64"
      ]
     },
     "execution_count": 15,
     "metadata": {},
     "output_type": "execute_result"
    }
   ],
   "source": [
    "df.isna().sum()"
   ]
  },
  {
   "cell_type": "code",
   "execution_count": 2,
   "metadata": {},
   "outputs": [
    {
     "ename": "SyntaxError",
     "evalue": "invalid syntax (1986652608.py, line 3)",
     "output_type": "error",
     "traceback": [
      "\u001b[1;36m  Cell \u001b[1;32mIn[2], line 3\u001b[1;36m\u001b[0m\n\u001b[1;33m    return x=1\u001b[0m\n\u001b[1;37m            ^\u001b[0m\n\u001b[1;31mSyntaxError\u001b[0m\u001b[1;31m:\u001b[0m invalid syntax\n"
     ]
    }
   ],
   "source": []
  },
  {
   "cell_type": "code",
   "execution_count": 30,
   "metadata": {},
   "outputs": [],
   "source": [
    "class Data:\n",
    "\n",
    "    def __init__(self,x,y) -> None:\n",
    "        self.x=x\n",
    "        self.y=y\n",
    "\n",
    "    def __lt__(self,other):\n",
    "        return self.y<other.y\n",
    "    \n",
    "    def __repr__(self) -> str:\n",
    "        return f\"({self.x},{self.y})\"\n",
    "    \n",
    "    def __str__(self) -> str:\n",
    "        return f\"({self.x},{self.y})\""
   ]
  },
  {
   "cell_type": "code",
   "execution_count": 31,
   "metadata": {},
   "outputs": [],
   "source": [
    "from random import randint"
   ]
  },
  {
   "cell_type": "code",
   "execution_count": 32,
   "metadata": {},
   "outputs": [],
   "source": [
    "t=[]\n",
    "for i in range(10):\n",
    "    x= randint(100,200)\n",
    "    y= randint(100,200)\n",
    "    data=Data(x,y)\n",
    "    t.append(data)"
   ]
  },
  {
   "cell_type": "code",
   "execution_count": 33,
   "metadata": {},
   "outputs": [
    {
     "data": {
      "text/plain": [
       "[(133,152),\n",
       " (196,120),\n",
       " (159,195),\n",
       " (124,132),\n",
       " (161,119),\n",
       " (133,166),\n",
       " (122,102),\n",
       " (200,127),\n",
       " (139,200),\n",
       " (185,132)]"
      ]
     },
     "execution_count": 33,
     "metadata": {},
     "output_type": "execute_result"
    }
   ],
   "source": [
    "t"
   ]
  },
  {
   "cell_type": "code",
   "execution_count": 34,
   "metadata": {},
   "outputs": [],
   "source": [
    "t.sort()"
   ]
  },
  {
   "cell_type": "code",
   "execution_count": 35,
   "metadata": {},
   "outputs": [
    {
     "data": {
      "text/plain": [
       "[(122,102),\n",
       " (161,119),\n",
       " (196,120),\n",
       " (200,127),\n",
       " (124,132),\n",
       " (185,132),\n",
       " (133,152),\n",
       " (133,166),\n",
       " (159,195),\n",
       " (139,200)]"
      ]
     },
     "execution_count": 35,
     "metadata": {},
     "output_type": "execute_result"
    }
   ],
   "source": [
    "t"
   ]
  },
  {
   "cell_type": "code",
   "execution_count": 41,
   "metadata": {},
   "outputs": [],
   "source": [
    "def test(x):\n",
    "    return True"
   ]
  },
  {
   "cell_type": "code",
   "execution_count": 42,
   "metadata": {},
   "outputs": [
    {
     "name": "stdout",
     "output_type": "stream",
     "text": [
      "122 102\n",
      "161 119\n",
      "196 120\n",
      "200 127\n",
      "124 132\n",
      "185 132\n",
      "133 152\n",
      "133 166\n",
      "159 195\n",
      "139 200\n"
     ]
    }
   ],
   "source": [
    "t.sort(key=test)"
   ]
  },
  {
   "cell_type": "code",
   "execution_count": 2,
   "metadata": {},
   "outputs": [
    {
     "data": {
      "text/plain": [
       "[3, 3, 3, 3]"
      ]
     },
     "execution_count": 2,
     "metadata": {},
     "output_type": "execute_result"
    }
   ],
   "source": [
    "[3]*4"
   ]
  },
  {
   "cell_type": "code",
   "execution_count": 3,
   "metadata": {},
   "outputs": [
    {
     "data": {
      "text/plain": [
       "[False, False, False, False, False]"
      ]
     },
     "execution_count": 3,
     "metadata": {},
     "output_type": "execute_result"
    }
   ],
   "source": [
    "[False]*5"
   ]
  },
  {
   "cell_type": "code",
   "execution_count": 15,
   "metadata": {},
   "outputs": [
    {
     "name": "stdout",
     "output_type": "stream",
     "text": [
      "5\n"
     ]
    }
   ],
   "source": [
    "data = [[-1]*3]*3\n",
    "data[0][0]=5\n",
    "print(data[1][0])\n",
    "#Guess the output\n"
   ]
  },
  {
   "cell_type": "code",
   "execution_count": 1,
   "metadata": {},
   "outputs": [],
   "source": [
    "data = [[-1]*3]*3"
   ]
  },
  {
   "cell_type": "code",
   "execution_count": 2,
   "metadata": {},
   "outputs": [
    {
     "data": {
      "text/plain": [
       "[[-1, -1, -1], [-1, -1, -1], [-1, -1, -1]]"
      ]
     },
     "execution_count": 2,
     "metadata": {},
     "output_type": "execute_result"
    }
   ],
   "source": [
    "data"
   ]
  },
  {
   "cell_type": "code",
   "execution_count": 3,
   "metadata": {},
   "outputs": [],
   "source": [
    "data[0][0]=5"
   ]
  },
  {
   "cell_type": "code",
   "execution_count": 4,
   "metadata": {},
   "outputs": [
    {
     "data": {
      "text/plain": [
       "[[5, -1, -1], [5, -1, -1], [5, -1, -1]]"
      ]
     },
     "execution_count": 4,
     "metadata": {},
     "output_type": "execute_result"
    }
   ],
   "source": [
    "data"
   ]
  },
  {
   "cell_type": "code",
   "execution_count": 5,
   "metadata": {},
   "outputs": [
    {
     "data": {
      "text/plain": [
       "[-1, -1, -1]"
      ]
     },
     "execution_count": 5,
     "metadata": {},
     "output_type": "execute_result"
    }
   ],
   "source": [
    "[-1]*3"
   ]
  },
  {
   "cell_type": "code",
   "execution_count": 8,
   "metadata": {},
   "outputs": [],
   "source": [
    "newData = [[-1 for i in range(0,3)] for i in range(0,3)]"
   ]
  },
  {
   "cell_type": "code",
   "execution_count": 9,
   "metadata": {},
   "outputs": [],
   "source": [
    "newData[0][0]=5"
   ]
  },
  {
   "cell_type": "code",
   "execution_count": 10,
   "metadata": {},
   "outputs": [
    {
     "data": {
      "text/plain": [
       "[[5, -1, -1], [-1, -1, -1], [-1, -1, -1]]"
      ]
     },
     "execution_count": 10,
     "metadata": {},
     "output_type": "execute_result"
    }
   ],
   "source": [
    "newData"
   ]
  },
  {
   "cell_type": "code",
   "execution_count": 2,
   "metadata": {},
   "outputs": [
    {
     "data": {
      "text/plain": [
       "[[-1, -1], [-1, -1], [-1, -1], [-1, -1], [-1, -1]]"
      ]
     },
     "execution_count": 2,
     "metadata": {},
     "output_type": "execute_result"
    }
   ],
   "source": [
    "[[-1 for i in range(2)] for j in range(5)]"
   ]
  },
  {
   "cell_type": "code",
   "execution_count": 1,
   "metadata": {},
   "outputs": [],
   "source": [
    "a=[{5:9}]"
   ]
  },
  {
   "cell_type": "code",
   "execution_count": 5,
   "metadata": {},
   "outputs": [
    {
     "name": "stdout",
     "output_type": "stream",
     "text": [
      "yes\n"
     ]
    }
   ],
   "source": [
    "if a[0].get(5,None):\n",
    "    print('yes')"
   ]
  },
  {
   "cell_type": "code",
   "execution_count": null,
   "metadata": {},
   "outputs": [],
   "source": []
  }
 ],
 "metadata": {
  "kernelspec": {
   "display_name": "base",
   "language": "python",
   "name": "python3"
  },
  "language_info": {
   "codemirror_mode": {
    "name": "ipython",
    "version": 3
   },
   "file_extension": ".py",
   "mimetype": "text/x-python",
   "name": "python",
   "nbconvert_exporter": "python",
   "pygments_lexer": "ipython3",
   "version": "3.11.5"
  }
 },
 "nbformat": 4,
 "nbformat_minor": 2
}
