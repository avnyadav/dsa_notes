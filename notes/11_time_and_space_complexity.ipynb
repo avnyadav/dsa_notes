{
 "cells": [
  {
   "cell_type": "markdown",
   "metadata": {},
   "source": [
    "Time and Space complexity\n",
    "\n",
    "\n",
    "Time: \n",
    "\n",
    "execution time of an algorithm for given input.\n",
    "Camparison of algorithm\n",
    "\n",
    "Big $(O)$ notation--> uppper bound--Worst case\n",
    "\n",
    "Theta notaion ( $\\theta$ ) --> avergae \n",
    "\n",
    "Omega notation ( &Omega; ) ---> Lower bound--best case\n",
    "\n",
    "\n",
    "Example\n",
    "\n",
    "* Constant Time : $O$(1)\n",
    "* Linear Time:  $O$(n)\n",
    "* Logarithmic Time: $O$(logn)\n",
    "* Quadratic Time: $O$(n^2)\n",
    "* Cubic Time: $O$(n^3)\n",
    "\n",
    "\n",
    "Space complexity:\n",
    "\n",
    "\n",
    "\n",
    "\n"
   ]
  },
  {
   "cell_type": "markdown",
   "metadata": {},
   "source": []
  },
  {
   "cell_type": "markdown",
   "metadata": {},
   "source": []
  }
 ],
 "metadata": {
  "language_info": {
   "name": "python"
  }
 },
 "nbformat": 4,
 "nbformat_minor": 2
}
