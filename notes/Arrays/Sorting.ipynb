{
 "cells": [
  {
   "cell_type": "code",
   "execution_count": 21,
   "metadata": {},
   "outputs": [],
   "source": [
    "\n",
    "def partition(arr,low,high)->int:\n",
    "    \"\"\"\n",
    "    return correct idx of pivot item and \n",
    "    \"\"\"\n",
    "    pivot = arr[high] \n",
    "    i=low-1\n",
    "    for j in range(low,high):\n",
    "        if arr[j]<pivot:\n",
    "            i+=1\n",
    "            arr[j],arr[i]=arr[i],arr[j]\n",
    "    \n",
    "    i+=1\n",
    "    arr[high],arr[i]=arr[i],arr[high]\n",
    "    return i\n",
    "\n",
    "\n",
    "def quick_sort(arr,low,high):\n",
    "    if low<high:\n",
    "        pidx = partition(arr,low,high)\n",
    "        quick_sort(arr,low,pidx-1)\n",
    "        quick_sort(arr,pidx+1,high)\n",
    "\n",
    "\n",
    "\n"
   ]
  },
  {
   "cell_type": "code",
   "execution_count": 22,
   "metadata": {},
   "outputs": [
    {
     "name": "stdout",
     "output_type": "stream",
     "text": [
      "Arr: [1, 43, 21, 5, 1]\n",
      "Sorted arr: [1, 1, 5, 21, 43]\n"
     ]
    }
   ],
   "source": [
    "arr = [1,43,21,5,1]\n",
    "print(f\"Arr: {arr}\")\n",
    "low,high = 0, len(arr)-1\n",
    "quick_sort(arr,low,high)\n",
    "print(f\"Sorted arr: {arr}\")"
   ]
  },
  {
   "cell_type": "code",
   "execution_count": null,
   "metadata": {},
   "outputs": [],
   "source": []
  },
  {
   "cell_type": "code",
   "execution_count": null,
   "metadata": {},
   "outputs": [],
   "source": []
  }
 ],
 "metadata": {
  "kernelspec": {
   "display_name": "base",
   "language": "python",
   "name": "python3"
  },
  "language_info": {
   "codemirror_mode": {
    "name": "ipython",
    "version": 3
   },
   "file_extension": ".py",
   "mimetype": "text/x-python",
   "name": "python",
   "nbconvert_exporter": "python",
   "pygments_lexer": "ipython3",
   "version": "3.11.5"
  }
 },
 "nbformat": 4,
 "nbformat_minor": 2
}
